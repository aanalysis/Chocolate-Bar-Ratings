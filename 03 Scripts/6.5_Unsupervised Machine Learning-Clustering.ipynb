{
 "cells": [
  {
   "cell_type": "markdown",
   "id": "0e564285",
   "metadata": {},
   "source": [
    "# 6.5 Unsupervised Machine Learning-Clustering\n",
    "\n",
    "## Contents list:\n",
    "\n",
    "\n",
    "#### 01 Importing libraries\n",
    "#### 02 Importing data\n",
    "#### 03 The elbow technique\n",
    "#### 04 k-means clustering\n",
    "\n"
   ]
  },
  {
   "cell_type": "markdown",
   "id": "7de08086",
   "metadata": {},
   "source": [
    "#### 01 Importing libraries"
   ]
  },
  {
   "cell_type": "code",
   "execution_count": 1,
   "id": "77d0c394",
   "metadata": {},
   "outputs": [],
   "source": [
    "# Step 1 - Import libraries\n",
    "import pandas as pd\n",
    "import numpy as np\n",
    "import seaborn as sns\n",
    "import matplotlib\n",
    "import matplotlib.pyplot as plt\n",
    "import os\n",
    "import sklearn\n",
    "from sklearn.cluster import KMeans \n",
    "import pylab as pl "
   ]
  },
  {
   "cell_type": "markdown",
   "id": "5e3f721c",
   "metadata": {},
   "source": [
    "#### 02 Importing data"
   ]
  },
  {
   "cell_type": "code",
   "execution_count": 2,
   "id": "1364b302",
   "metadata": {},
   "outputs": [],
   "source": [
    "# Project folder path as string\n",
    "path = r'C:\\Users\\User\\Desktop\\Chocolate Bar Ratings'"
   ]
  },
  {
   "cell_type": "code",
   "execution_count": 3,
   "id": "30616b77",
   "metadata": {},
   "outputs": [],
   "source": [
    "# Step 2 - Import exploring_relationships.csv data set using the os library\n",
    "df_c= pd.read_csv(os.path.join(path, '02 Data', 'Prepared Data', 'exploring_relationships.csv'), index_col = False)"
   ]
  },
  {
   "cell_type": "code",
   "execution_count": 4,
   "id": "25625c23",
   "metadata": {},
   "outputs": [
    {
     "data": {
      "text/plain": [
       "(1721, 10)"
      ]
     },
     "execution_count": 4,
     "metadata": {},
     "output_type": "execute_result"
    }
   ],
   "source": [
    "# Checking the number of rows and columns\n",
    "df_c.shape"
   ]
  },
  {
   "cell_type": "code",
   "execution_count": 5,
   "id": "7135d084",
   "metadata": {},
   "outputs": [
    {
     "data": {
      "text/html": [
       "<div>\n",
       "<style scoped>\n",
       "    .dataframe tbody tr th:only-of-type {\n",
       "        vertical-align: middle;\n",
       "    }\n",
       "\n",
       "    .dataframe tbody tr th {\n",
       "        vertical-align: top;\n",
       "    }\n",
       "\n",
       "    .dataframe thead th {\n",
       "        text-align: right;\n",
       "    }\n",
       "</style>\n",
       "<table border=\"1\" class=\"dataframe\">\n",
       "  <thead>\n",
       "    <tr style=\"text-align: right;\">\n",
       "      <th></th>\n",
       "      <th>Unnamed: 0</th>\n",
       "      <th>company</th>\n",
       "      <th>specific_bean_origin_or_bar_name</th>\n",
       "      <th>reference_number</th>\n",
       "      <th>review_date</th>\n",
       "      <th>cocoa_percent</th>\n",
       "      <th>company_location</th>\n",
       "      <th>rating</th>\n",
       "      <th>broad_bean_origin</th>\n",
       "      <th>cocoa_percent_category</th>\n",
       "    </tr>\n",
       "  </thead>\n",
       "  <tbody>\n",
       "    <tr>\n",
       "      <th>0</th>\n",
       "      <td>0</td>\n",
       "      <td>A. Morin</td>\n",
       "      <td>Agua Grande</td>\n",
       "      <td>1876</td>\n",
       "      <td>2016</td>\n",
       "      <td>0.63</td>\n",
       "      <td>France</td>\n",
       "      <td>3.75</td>\n",
       "      <td>Sao Tome</td>\n",
       "      <td>Low_cocoa_percentage</td>\n",
       "    </tr>\n",
       "    <tr>\n",
       "      <th>1</th>\n",
       "      <td>1</td>\n",
       "      <td>A. Morin</td>\n",
       "      <td>Kpime</td>\n",
       "      <td>1676</td>\n",
       "      <td>2015</td>\n",
       "      <td>0.70</td>\n",
       "      <td>France</td>\n",
       "      <td>2.75</td>\n",
       "      <td>Togo</td>\n",
       "      <td>Middle_cocoa_percentage</td>\n",
       "    </tr>\n",
       "    <tr>\n",
       "      <th>2</th>\n",
       "      <td>2</td>\n",
       "      <td>A. Morin</td>\n",
       "      <td>Atsane</td>\n",
       "      <td>1676</td>\n",
       "      <td>2015</td>\n",
       "      <td>0.70</td>\n",
       "      <td>France</td>\n",
       "      <td>3.00</td>\n",
       "      <td>Togo</td>\n",
       "      <td>Middle_cocoa_percentage</td>\n",
       "    </tr>\n",
       "    <tr>\n",
       "      <th>3</th>\n",
       "      <td>3</td>\n",
       "      <td>A. Morin</td>\n",
       "      <td>Akata</td>\n",
       "      <td>1680</td>\n",
       "      <td>2015</td>\n",
       "      <td>0.70</td>\n",
       "      <td>France</td>\n",
       "      <td>3.50</td>\n",
       "      <td>Togo</td>\n",
       "      <td>Middle_cocoa_percentage</td>\n",
       "    </tr>\n",
       "    <tr>\n",
       "      <th>4</th>\n",
       "      <td>4</td>\n",
       "      <td>A. Morin</td>\n",
       "      <td>Quilla</td>\n",
       "      <td>1704</td>\n",
       "      <td>2015</td>\n",
       "      <td>0.70</td>\n",
       "      <td>France</td>\n",
       "      <td>3.50</td>\n",
       "      <td>Peru</td>\n",
       "      <td>Middle_cocoa_percentage</td>\n",
       "    </tr>\n",
       "  </tbody>\n",
       "</table>\n",
       "</div>"
      ],
      "text/plain": [
       "   Unnamed: 0   company specific_bean_origin_or_bar_name  reference_number  \\\n",
       "0           0  A. Morin                      Agua Grande              1876   \n",
       "1           1  A. Morin                            Kpime              1676   \n",
       "2           2  A. Morin                           Atsane              1676   \n",
       "3           3  A. Morin                            Akata              1680   \n",
       "4           4  A. Morin                           Quilla              1704   \n",
       "\n",
       "   review_date  cocoa_percent company_location  rating broad_bean_origin  \\\n",
       "0         2016           0.63           France    3.75          Sao Tome   \n",
       "1         2015           0.70           France    2.75              Togo   \n",
       "2         2015           0.70           France    3.00              Togo   \n",
       "3         2015           0.70           France    3.50              Togo   \n",
       "4         2015           0.70           France    3.50              Peru   \n",
       "\n",
       "    cocoa_percent_category  \n",
       "0     Low_cocoa_percentage  \n",
       "1  Middle_cocoa_percentage  \n",
       "2  Middle_cocoa_percentage  \n",
       "3  Middle_cocoa_percentage  \n",
       "4  Middle_cocoa_percentage  "
      ]
     },
     "execution_count": 5,
     "metadata": {},
     "output_type": "execute_result"
    }
   ],
   "source": [
    "df_c.head()"
   ]
  },
  {
   "cell_type": "code",
   "execution_count": 6,
   "id": "48eb22e3",
   "metadata": {},
   "outputs": [],
   "source": [
    "# Dropping the Unnamed: 0 column from df_c dataframe\n",
    "df_c=df_c.drop(columns = ['Unnamed: 0'])"
   ]
  },
  {
   "cell_type": "code",
   "execution_count": 7,
   "id": "f1d06c70",
   "metadata": {},
   "outputs": [
    {
     "data": {
      "text/plain": [
       "(1721, 9)"
      ]
     },
     "execution_count": 7,
     "metadata": {},
     "output_type": "execute_result"
    }
   ],
   "source": [
    "# Checking the number of rows and columns\n",
    "df_c.shape"
   ]
  },
  {
   "cell_type": "code",
   "execution_count": 8,
   "id": "79be04c6",
   "metadata": {},
   "outputs": [
    {
     "data": {
      "text/html": [
       "<div>\n",
       "<style scoped>\n",
       "    .dataframe tbody tr th:only-of-type {\n",
       "        vertical-align: middle;\n",
       "    }\n",
       "\n",
       "    .dataframe tbody tr th {\n",
       "        vertical-align: top;\n",
       "    }\n",
       "\n",
       "    .dataframe thead th {\n",
       "        text-align: right;\n",
       "    }\n",
       "</style>\n",
       "<table border=\"1\" class=\"dataframe\">\n",
       "  <thead>\n",
       "    <tr style=\"text-align: right;\">\n",
       "      <th></th>\n",
       "      <th>company</th>\n",
       "      <th>specific_bean_origin_or_bar_name</th>\n",
       "      <th>reference_number</th>\n",
       "      <th>review_date</th>\n",
       "      <th>cocoa_percent</th>\n",
       "      <th>company_location</th>\n",
       "      <th>rating</th>\n",
       "      <th>broad_bean_origin</th>\n",
       "      <th>cocoa_percent_category</th>\n",
       "    </tr>\n",
       "  </thead>\n",
       "  <tbody>\n",
       "    <tr>\n",
       "      <th>0</th>\n",
       "      <td>A. Morin</td>\n",
       "      <td>Agua Grande</td>\n",
       "      <td>1876</td>\n",
       "      <td>2016</td>\n",
       "      <td>0.63</td>\n",
       "      <td>France</td>\n",
       "      <td>3.75</td>\n",
       "      <td>Sao Tome</td>\n",
       "      <td>Low_cocoa_percentage</td>\n",
       "    </tr>\n",
       "    <tr>\n",
       "      <th>1</th>\n",
       "      <td>A. Morin</td>\n",
       "      <td>Kpime</td>\n",
       "      <td>1676</td>\n",
       "      <td>2015</td>\n",
       "      <td>0.70</td>\n",
       "      <td>France</td>\n",
       "      <td>2.75</td>\n",
       "      <td>Togo</td>\n",
       "      <td>Middle_cocoa_percentage</td>\n",
       "    </tr>\n",
       "    <tr>\n",
       "      <th>2</th>\n",
       "      <td>A. Morin</td>\n",
       "      <td>Atsane</td>\n",
       "      <td>1676</td>\n",
       "      <td>2015</td>\n",
       "      <td>0.70</td>\n",
       "      <td>France</td>\n",
       "      <td>3.00</td>\n",
       "      <td>Togo</td>\n",
       "      <td>Middle_cocoa_percentage</td>\n",
       "    </tr>\n",
       "    <tr>\n",
       "      <th>3</th>\n",
       "      <td>A. Morin</td>\n",
       "      <td>Akata</td>\n",
       "      <td>1680</td>\n",
       "      <td>2015</td>\n",
       "      <td>0.70</td>\n",
       "      <td>France</td>\n",
       "      <td>3.50</td>\n",
       "      <td>Togo</td>\n",
       "      <td>Middle_cocoa_percentage</td>\n",
       "    </tr>\n",
       "    <tr>\n",
       "      <th>4</th>\n",
       "      <td>A. Morin</td>\n",
       "      <td>Quilla</td>\n",
       "      <td>1704</td>\n",
       "      <td>2015</td>\n",
       "      <td>0.70</td>\n",
       "      <td>France</td>\n",
       "      <td>3.50</td>\n",
       "      <td>Peru</td>\n",
       "      <td>Middle_cocoa_percentage</td>\n",
       "    </tr>\n",
       "  </tbody>\n",
       "</table>\n",
       "</div>"
      ],
      "text/plain": [
       "    company specific_bean_origin_or_bar_name  reference_number  review_date  \\\n",
       "0  A. Morin                      Agua Grande              1876         2016   \n",
       "1  A. Morin                            Kpime              1676         2015   \n",
       "2  A. Morin                           Atsane              1676         2015   \n",
       "3  A. Morin                            Akata              1680         2015   \n",
       "4  A. Morin                           Quilla              1704         2015   \n",
       "\n",
       "   cocoa_percent company_location  rating broad_bean_origin  \\\n",
       "0           0.63           France    3.75          Sao Tome   \n",
       "1           0.70           France    2.75              Togo   \n",
       "2           0.70           France    3.00              Togo   \n",
       "3           0.70           France    3.50              Togo   \n",
       "4           0.70           France    3.50              Peru   \n",
       "\n",
       "    cocoa_percent_category  \n",
       "0     Low_cocoa_percentage  \n",
       "1  Middle_cocoa_percentage  \n",
       "2  Middle_cocoa_percentage  \n",
       "3  Middle_cocoa_percentage  \n",
       "4  Middle_cocoa_percentage  "
      ]
     },
     "execution_count": 8,
     "metadata": {},
     "output_type": "execute_result"
    }
   ],
   "source": [
    "df_c.head()"
   ]
  },
  {
   "cell_type": "code",
   "execution_count": 9,
   "id": "fdbbb753",
   "metadata": {},
   "outputs": [],
   "source": [
    "# Step 2 - Remove a categorical columns\n",
    "df_c.drop(columns = ['company', 'specific_bean_origin_or_bar_name', 'company_location', 'broad_bean_origin','cocoa_percent_category'], inplace=True)"
   ]
  },
  {
   "cell_type": "code",
   "execution_count": 10,
   "id": "67591ffb",
   "metadata": {},
   "outputs": [
    {
     "data": {
      "text/html": [
       "<div>\n",
       "<style scoped>\n",
       "    .dataframe tbody tr th:only-of-type {\n",
       "        vertical-align: middle;\n",
       "    }\n",
       "\n",
       "    .dataframe tbody tr th {\n",
       "        vertical-align: top;\n",
       "    }\n",
       "\n",
       "    .dataframe thead th {\n",
       "        text-align: right;\n",
       "    }\n",
       "</style>\n",
       "<table border=\"1\" class=\"dataframe\">\n",
       "  <thead>\n",
       "    <tr style=\"text-align: right;\">\n",
       "      <th></th>\n",
       "      <th>reference_number</th>\n",
       "      <th>review_date</th>\n",
       "      <th>cocoa_percent</th>\n",
       "      <th>rating</th>\n",
       "    </tr>\n",
       "  </thead>\n",
       "  <tbody>\n",
       "    <tr>\n",
       "      <th>0</th>\n",
       "      <td>1876</td>\n",
       "      <td>2016</td>\n",
       "      <td>0.63</td>\n",
       "      <td>3.75</td>\n",
       "    </tr>\n",
       "    <tr>\n",
       "      <th>1</th>\n",
       "      <td>1676</td>\n",
       "      <td>2015</td>\n",
       "      <td>0.70</td>\n",
       "      <td>2.75</td>\n",
       "    </tr>\n",
       "    <tr>\n",
       "      <th>2</th>\n",
       "      <td>1676</td>\n",
       "      <td>2015</td>\n",
       "      <td>0.70</td>\n",
       "      <td>3.00</td>\n",
       "    </tr>\n",
       "    <tr>\n",
       "      <th>3</th>\n",
       "      <td>1680</td>\n",
       "      <td>2015</td>\n",
       "      <td>0.70</td>\n",
       "      <td>3.50</td>\n",
       "    </tr>\n",
       "    <tr>\n",
       "      <th>4</th>\n",
       "      <td>1704</td>\n",
       "      <td>2015</td>\n",
       "      <td>0.70</td>\n",
       "      <td>3.50</td>\n",
       "    </tr>\n",
       "  </tbody>\n",
       "</table>\n",
       "</div>"
      ],
      "text/plain": [
       "   reference_number  review_date  cocoa_percent  rating\n",
       "0              1876         2016           0.63    3.75\n",
       "1              1676         2015           0.70    2.75\n",
       "2              1676         2015           0.70    3.00\n",
       "3              1680         2015           0.70    3.50\n",
       "4              1704         2015           0.70    3.50"
      ]
     },
     "execution_count": 10,
     "metadata": {},
     "output_type": "execute_result"
    }
   ],
   "source": [
    "df_c.head()"
   ]
  },
  {
   "cell_type": "code",
   "execution_count": 11,
   "id": "9f9bab49",
   "metadata": {},
   "outputs": [],
   "source": [
    "%matplotlib inline"
   ]
  },
  {
   "cell_type": "markdown",
   "id": "d4d0e033",
   "metadata": {},
   "source": [
    "#### 03 The elbow technique"
   ]
  },
  {
   "cell_type": "code",
   "execution_count": 12,
   "id": "cffd3435",
   "metadata": {},
   "outputs": [],
   "source": [
    "# Step 3 - Defines the range of potential clusters in the data\n",
    "num_cl = range(1, 10) \n"
   ]
  },
  {
   "cell_type": "code",
   "execution_count": 13,
   "id": "a9c7d4f9",
   "metadata": {},
   "outputs": [],
   "source": [
    "# Step 3 - Defines k-means clusters in the range assigned above\n",
    "kmeans = [KMeans(n_clusters=i) for i in num_cl] "
   ]
  },
  {
   "cell_type": "code",
   "execution_count": null,
   "id": "f7876f03",
   "metadata": {},
   "outputs": [],
   "source": [
    "# Step 3 - Create a score that represents a rate of variation for the given cluster option\n",
    "score = [kmeans[i].fit(df_c).score(df_c) for i in range(len(kmeans))] \n",
    "\n"
   ]
  },
  {
   "cell_type": "code",
   "execution_count": 15,
   "id": "781f481e",
   "metadata": {},
   "outputs": [
    {
     "data": {
      "text/plain": [
       "[-515784070.23356295,\n",
       " -132702081.17846549,\n",
       " -59618944.00283342,\n",
       " -33353887.749391392,\n",
       " -21010946.187884595,\n",
       " -14947952.029813247,\n",
       " -10910038.504549729,\n",
       " -8431755.889252951,\n",
       " -6684646.794609107]"
      ]
     },
     "execution_count": 15,
     "metadata": {},
     "output_type": "execute_result"
    }
   ],
   "source": [
    "score"
   ]
  },
  {
   "cell_type": "code",
   "execution_count": 16,
   "id": "fbbd5aa2",
   "metadata": {},
   "outputs": [
    {
     "data": {
      "image/png": "[encoded data removed]",
      "text/plain": [
       "<Figure size 640x480 with 1 Axes>"
      ]
     },
     "metadata": {},
     "output_type": "display_data"
    }
   ],
   "source": [
    "# Step 4 - Plot the elbow curve using PyLab\n",
    "\n",
    "pl.plot(num_cl, score)\n",
    "pl.xlabel('Number of Clusters')\n",
    "pl.ylabel('Score')\n",
    "pl.title('Elbow Curve')\n",
    "pl.show()"
   ]
  },
  {
   "cell_type": "markdown",
   "id": "3a08c674",
   "metadata": {},
   "source": [
    "- The number of clusters to be used is 3 because after the number of clusters equal to 3 the curve becomes more and more straight."
   ]
  },
  {
   "cell_type": "markdown",
   "id": "4dd195ec",
   "metadata": {},
   "source": [
    "#### 04 k-means clustering"
   ]
  },
  {
   "cell_type": "code",
   "execution_count": 17,
   "id": "e5a8b3e0",
   "metadata": {},
   "outputs": [],
   "source": [
    "# Step 5 - Create the k-means object\n",
    "\n",
    "kmeans = KMeans(n_clusters = 3) \n"
   ]
  },
  {
   "cell_type": "code",
   "execution_count": 18,
   "id": "303bbac2",
   "metadata": {},
   "outputs": [
    {
     "data": {
      "text/plain": [
       "KMeans(n_clusters=3)"
      ]
     },
     "execution_count": 18,
     "metadata": {},
     "output_type": "execute_result"
    }
   ],
   "source": [
    "# Step 5 - Fit the k-means object to the data\n",
    "\n",
    "kmeans.fit(df_c)"
   ]
  },
  {
   "cell_type": "code",
   "execution_count": 19,
   "id": "67687a7e",
   "metadata": {},
   "outputs": [],
   "source": [
    "# Step 6 - Create a 'clusters' column in the df_c\n",
    "df_c['clusters'] = kmeans.fit_predict(df_c)"
   ]
  },
  {
   "cell_type": "code",
   "execution_count": 20,
   "id": "72907161",
   "metadata": {},
   "outputs": [
    {
     "data": {
      "text/html": [
       "<div>\n",
       "<style scoped>\n",
       "    .dataframe tbody tr th:only-of-type {\n",
       "        vertical-align: middle;\n",
       "    }\n",
       "\n",
       "    .dataframe tbody tr th {\n",
       "        vertical-align: top;\n",
       "    }\n",
       "\n",
       "    .dataframe thead th {\n",
       "        text-align: right;\n",
       "    }\n",
       "</style>\n",
       "<table border=\"1\" class=\"dataframe\">\n",
       "  <thead>\n",
       "    <tr style=\"text-align: right;\">\n",
       "      <th></th>\n",
       "      <th>reference_number</th>\n",
       "      <th>review_date</th>\n",
       "      <th>cocoa_percent</th>\n",
       "      <th>rating</th>\n",
       "      <th>clusters</th>\n",
       "    </tr>\n",
       "  </thead>\n",
       "  <tbody>\n",
       "    <tr>\n",
       "      <th>0</th>\n",
       "      <td>1876</td>\n",
       "      <td>2016</td>\n",
       "      <td>0.63</td>\n",
       "      <td>3.75</td>\n",
       "      <td>0</td>\n",
       "    </tr>\n",
       "    <tr>\n",
       "      <th>1</th>\n",
       "      <td>1676</td>\n",
       "      <td>2015</td>\n",
       "      <td>0.70</td>\n",
       "      <td>2.75</td>\n",
       "      <td>0</td>\n",
       "    </tr>\n",
       "    <tr>\n",
       "      <th>2</th>\n",
       "      <td>1676</td>\n",
       "      <td>2015</td>\n",
       "      <td>0.70</td>\n",
       "      <td>3.00</td>\n",
       "      <td>0</td>\n",
       "    </tr>\n",
       "    <tr>\n",
       "      <th>3</th>\n",
       "      <td>1680</td>\n",
       "      <td>2015</td>\n",
       "      <td>0.70</td>\n",
       "      <td>3.50</td>\n",
       "      <td>0</td>\n",
       "    </tr>\n",
       "    <tr>\n",
       "      <th>4</th>\n",
       "      <td>1704</td>\n",
       "      <td>2015</td>\n",
       "      <td>0.70</td>\n",
       "      <td>3.50</td>\n",
       "      <td>0</td>\n",
       "    </tr>\n",
       "  </tbody>\n",
       "</table>\n",
       "</div>"
      ],
      "text/plain": [
       "   reference_number  review_date  cocoa_percent  rating  clusters\n",
       "0              1876         2016           0.63    3.75         0\n",
       "1              1676         2015           0.70    2.75         0\n",
       "2              1676         2015           0.70    3.00         0\n",
       "3              1680         2015           0.70    3.50         0\n",
       "4              1704         2015           0.70    3.50         0"
      ]
     },
     "execution_count": 20,
     "metadata": {},
     "output_type": "execute_result"
    }
   ],
   "source": [
    "df_c.head()"
   ]
  },
  {
   "cell_type": "code",
   "execution_count": 21,
   "id": "8933129e",
   "metadata": {},
   "outputs": [
    {
     "data": {
      "text/plain": [
       "0    651\n",
       "2    587\n",
       "1    483\n",
       "Name: clusters, dtype: int64"
      ]
     },
     "execution_count": 21,
     "metadata": {},
     "output_type": "execute_result"
    }
   ],
   "source": [
    "# Check the frequency of column\n",
    "df_c['clusters'].value_counts()"
   ]
  },
  {
   "cell_type": "code",
   "execution_count": 22,
   "id": "cdba17ab",
   "metadata": {},
   "outputs": [
    {
     "data": {
      "image/png": "[encoded data removed]",
      "text/plain": [
       "<Figure size 1200x800 with 1 Axes>"
      ]
     },
     "metadata": {},
     "output_type": "display_data"
    }
   ],
   "source": [
    "# Step 7 - Plot the clusters for the 'cocoa_percent' and 'rating' variables\n",
    "\n",
    "plt.figure(figsize=(12,8))\n",
    "ax = sns.scatterplot(x=df_c['cocoa_percent'], y=df_c['rating'], hue=kmeans.labels_, s=100) \n",
    "\n",
    "ax.grid(False) \n",
    "plt.xlabel('cocoa_percent') \n",
    "plt.ylabel('rating') \n",
    "plt.show()"
   ]
  },
  {
   "cell_type": "code",
   "execution_count": 23,
   "id": "69272147",
   "metadata": {},
   "outputs": [],
   "source": [
    "df_c.loc[df_c['clusters'] == 2, 'cluster'] = 'dark purple'\n",
    "df_c.loc[df_c['clusters'] == 1, 'cluster'] = 'purple'\n",
    "df_c.loc[df_c['clusters'] == 0, 'cluster'] = 'pink'"
   ]
  },
  {
   "cell_type": "code",
   "execution_count": 24,
   "id": "e43fad6c",
   "metadata": {},
   "outputs": [
    {
     "data": {
      "text/html": [
       "<div>\n",
       "<style scoped>\n",
       "    .dataframe tbody tr th:only-of-type {\n",
       "        vertical-align: middle;\n",
       "    }\n",
       "\n",
       "    .dataframe tbody tr th {\n",
       "        vertical-align: top;\n",
       "    }\n",
       "\n",
       "    .dataframe thead tr th {\n",
       "        text-align: left;\n",
       "    }\n",
       "\n",
       "    .dataframe thead tr:last-of-type th {\n",
       "        text-align: right;\n",
       "    }\n",
       "</style>\n",
       "<table border=\"1\" class=\"dataframe\">\n",
       "  <thead>\n",
       "    <tr>\n",
       "      <th></th>\n",
       "      <th colspan=\"2\" halign=\"left\">cocoa_percent</th>\n",
       "      <th colspan=\"2\" halign=\"left\">rating</th>\n",
       "    </tr>\n",
       "    <tr>\n",
       "      <th></th>\n",
       "      <th>mean</th>\n",
       "      <th>median</th>\n",
       "      <th>mean</th>\n",
       "      <th>median</th>\n",
       "    </tr>\n",
       "    <tr>\n",
       "      <th>cluster</th>\n",
       "      <th></th>\n",
       "      <th></th>\n",
       "      <th></th>\n",
       "      <th></th>\n",
       "    </tr>\n",
       "  </thead>\n",
       "  <tbody>\n",
       "    <tr>\n",
       "      <th>dark purple</th>\n",
       "      <td>0.720562</td>\n",
       "      <td>0.7</td>\n",
       "      <td>3.192078</td>\n",
       "      <td>3.25</td>\n",
       "    </tr>\n",
       "    <tr>\n",
       "      <th>pink</th>\n",
       "      <td>0.718318</td>\n",
       "      <td>0.7</td>\n",
       "      <td>3.240015</td>\n",
       "      <td>3.25</td>\n",
       "    </tr>\n",
       "    <tr>\n",
       "      <th>purple</th>\n",
       "      <td>0.711491</td>\n",
       "      <td>0.7</td>\n",
       "      <td>3.141822</td>\n",
       "      <td>3.00</td>\n",
       "    </tr>\n",
       "  </tbody>\n",
       "</table>\n",
       "</div>"
      ],
      "text/plain": [
       "            cocoa_percent           rating       \n",
       "                     mean median      mean median\n",
       "cluster                                          \n",
       "dark purple      0.720562    0.7  3.192078   3.25\n",
       "pink             0.718318    0.7  3.240015   3.25\n",
       "purple           0.711491    0.7  3.141822   3.00"
      ]
     },
     "execution_count": 24,
     "metadata": {},
     "output_type": "execute_result"
    }
   ],
   "source": [
    "# Step 9 - Descriptive statistics\n",
    "df_c.groupby('cluster').agg({'cocoa_percent':['mean', 'median'], \n",
    "                         'rating':['mean', 'median']})"
   ]
  },
  {
   "cell_type": "markdown",
   "id": "0cb09ac3",
   "metadata": {},
   "source": [
    "- Observing visualization of the clusters for the 'cocoa_percent' and 'rating' variables is hard to spot any patterns, that's why data need to be explored further to get better insights. By observing the table with descriptive statistics, it can be seen that all three clusters have the same median for the _cocoa_percent' variable, while for the 'rating' variable, the median is the same for two clusters, while one cluster differs. The differences in the arithmetic means between the clusters for each observed variable are small."
   ]
  },
  {
   "cell_type": "code",
   "execution_count": null,
   "id": "70d6a5d5",
   "metadata": {},
   "outputs": [],
   "source": []
  }
 ],
 "metadata": {
  "kernelspec": {
   "display_name": "Python 3 (ipykernel)",
   "language": "python",
   "name": "python3"
  },
  "language_info": {
   "codemirror_mode": {
    "name": "ipython",
    "version": 3
   },
   "file_extension": ".py",
   "mimetype": "text/x-python",
   "name": "python",
   "nbconvert_exporter": "python",
   "pygments_lexer": "ipython3",
   "version": "3.9.13"
  }
 },
 "nbformat": 4,
 "nbformat_minor": 5
}
