{
 "cells": [
  {
   "cell_type": "markdown",
   "id": "6eb5a911",
   "metadata": {},
   "source": [
    "# 6.4 Supervised Machine Learning-Regression\n",
    "\n",
    "## Contents list:\n",
    "\n",
    "\n",
    "#### 01 Importing libraries\n",
    "#### 02 Importing data\n",
    "#### 03 Data consistency checks\n",
    "#### 04 Data prep for regression analysis\n",
    "#### 05 Linear regression analysis"
   ]
  },
  {
   "cell_type": "markdown",
   "id": "06167eb0",
   "metadata": {},
   "source": [
    "#### 01 Importing libraries"
   ]
  },
  {
   "cell_type": "code",
   "execution_count": 1,
   "id": "d4071c72",
   "metadata": {},
   "outputs": [],
   "source": [
    "# Step 2 - Import libraries\n",
    "import pandas as pd\n",
    "import numpy as np\n",
    "import seaborn as sns\n",
    "import matplotlib\n",
    "import matplotlib.pyplot as plt\n",
    "import os\n",
    "import sklearn\n",
    "from sklearn.model_selection import train_test_split \n",
    "from sklearn.linear_model import LinearRegression\n",
    "from sklearn.metrics import mean_squared_error, r2_score"
   ]
  },
  {
   "cell_type": "markdown",
   "id": "f8e63b1a",
   "metadata": {},
   "source": [
    "#### 02 Importing data"
   ]
  },
  {
   "cell_type": "code",
   "execution_count": 2,
   "id": "a007f879",
   "metadata": {},
   "outputs": [],
   "source": [
    "# Project folder path as string\n",
    "path = r'C:\\Users\\User\\Desktop\\Chocolate Bar Ratings'"
   ]
  },
  {
   "cell_type": "code",
   "execution_count": 3,
   "id": "bbe031ca",
   "metadata": {},
   "outputs": [],
   "source": [
    "# Import exploring_relationships.csv data set using the os library\n",
    "df_c= pd.read_csv(os.path.join(path, '02 Data', 'Prepared Data', 'exploring_relationships.csv'), index_col = False)"
   ]
  },
  {
   "cell_type": "code",
   "execution_count": 4,
   "id": "9bc9129c",
   "metadata": {},
   "outputs": [
    {
     "data": {
      "text/plain": [
       "(1721, 10)"
      ]
     },
     "execution_count": 4,
     "metadata": {},
     "output_type": "execute_result"
    }
   ],
   "source": [
    "# Checking the number of rows and columns\n",
    "df_c.shape"
   ]
  },
  {
   "cell_type": "code",
   "execution_count": 5,
   "id": "f36c1b6a",
   "metadata": {},
   "outputs": [
    {
     "data": {
      "text/html": [
       "<div>\n",
       "<style scoped>\n",
       "    .dataframe tbody tr th:only-of-type {\n",
       "        vertical-align: middle;\n",
       "    }\n",
       "\n",
       "    .dataframe tbody tr th {\n",
       "        vertical-align: top;\n",
       "    }\n",
       "\n",
       "    .dataframe thead th {\n",
       "        text-align: right;\n",
       "    }\n",
       "</style>\n",
       "<table border=\"1\" class=\"dataframe\">\n",
       "  <thead>\n",
       "    <tr style=\"text-align: right;\">\n",
       "      <th></th>\n",
       "      <th>Unnamed: 0</th>\n",
       "      <th>company</th>\n",
       "      <th>specific_bean_origin_or_bar_name</th>\n",
       "      <th>reference_number</th>\n",
       "      <th>review_date</th>\n",
       "      <th>cocoa_percent</th>\n",
       "      <th>company_location</th>\n",
       "      <th>rating</th>\n",
       "      <th>broad_bean_origin</th>\n",
       "      <th>cocoa_percent_category</th>\n",
       "    </tr>\n",
       "  </thead>\n",
       "  <tbody>\n",
       "    <tr>\n",
       "      <th>0</th>\n",
       "      <td>0</td>\n",
       "      <td>A. Morin</td>\n",
       "      <td>Agua Grande</td>\n",
       "      <td>1876</td>\n",
       "      <td>2016</td>\n",
       "      <td>0.63</td>\n",
       "      <td>France</td>\n",
       "      <td>3.75</td>\n",
       "      <td>Sao Tome</td>\n",
       "      <td>Low_cocoa_percentage</td>\n",
       "    </tr>\n",
       "    <tr>\n",
       "      <th>1</th>\n",
       "      <td>1</td>\n",
       "      <td>A. Morin</td>\n",
       "      <td>Kpime</td>\n",
       "      <td>1676</td>\n",
       "      <td>2015</td>\n",
       "      <td>0.70</td>\n",
       "      <td>France</td>\n",
       "      <td>2.75</td>\n",
       "      <td>Togo</td>\n",
       "      <td>Middle_cocoa_percentage</td>\n",
       "    </tr>\n",
       "    <tr>\n",
       "      <th>2</th>\n",
       "      <td>2</td>\n",
       "      <td>A. Morin</td>\n",
       "      <td>Atsane</td>\n",
       "      <td>1676</td>\n",
       "      <td>2015</td>\n",
       "      <td>0.70</td>\n",
       "      <td>France</td>\n",
       "      <td>3.00</td>\n",
       "      <td>Togo</td>\n",
       "      <td>Middle_cocoa_percentage</td>\n",
       "    </tr>\n",
       "    <tr>\n",
       "      <th>3</th>\n",
       "      <td>3</td>\n",
       "      <td>A. Morin</td>\n",
       "      <td>Akata</td>\n",
       "      <td>1680</td>\n",
       "      <td>2015</td>\n",
       "      <td>0.70</td>\n",
       "      <td>France</td>\n",
       "      <td>3.50</td>\n",
       "      <td>Togo</td>\n",
       "      <td>Middle_cocoa_percentage</td>\n",
       "    </tr>\n",
       "    <tr>\n",
       "      <th>4</th>\n",
       "      <td>4</td>\n",
       "      <td>A. Morin</td>\n",
       "      <td>Quilla</td>\n",
       "      <td>1704</td>\n",
       "      <td>2015</td>\n",
       "      <td>0.70</td>\n",
       "      <td>France</td>\n",
       "      <td>3.50</td>\n",
       "      <td>Peru</td>\n",
       "      <td>Middle_cocoa_percentage</td>\n",
       "    </tr>\n",
       "  </tbody>\n",
       "</table>\n",
       "</div>"
      ],
      "text/plain": [
       "   Unnamed: 0   company specific_bean_origin_or_bar_name  reference_number  \\\n",
       "0           0  A. Morin                      Agua Grande              1876   \n",
       "1           1  A. Morin                            Kpime              1676   \n",
       "2           2  A. Morin                           Atsane              1676   \n",
       "3           3  A. Morin                            Akata              1680   \n",
       "4           4  A. Morin                           Quilla              1704   \n",
       "\n",
       "   review_date  cocoa_percent company_location  rating broad_bean_origin  \\\n",
       "0         2016           0.63           France    3.75          Sao Tome   \n",
       "1         2015           0.70           France    2.75              Togo   \n",
       "2         2015           0.70           France    3.00              Togo   \n",
       "3         2015           0.70           France    3.50              Togo   \n",
       "4         2015           0.70           France    3.50              Peru   \n",
       "\n",
       "    cocoa_percent_category  \n",
       "0     Low_cocoa_percentage  \n",
       "1  Middle_cocoa_percentage  \n",
       "2  Middle_cocoa_percentage  \n",
       "3  Middle_cocoa_percentage  \n",
       "4  Middle_cocoa_percentage  "
      ]
     },
     "execution_count": 5,
     "metadata": {},
     "output_type": "execute_result"
    }
   ],
   "source": [
    "df_c.head()"
   ]
  },
  {
   "cell_type": "code",
   "execution_count": 6,
   "id": "dc50ba97",
   "metadata": {},
   "outputs": [],
   "source": [
    "# Dropping the Unnamed: 0 column from df_c dataframe\n",
    "df_c=df_c.drop(columns = ['Unnamed: 0'])"
   ]
  },
  {
   "cell_type": "code",
   "execution_count": 7,
   "id": "bfcdf7b3",
   "metadata": {},
   "outputs": [
    {
     "data": {
      "text/plain": [
       "(1721, 9)"
      ]
     },
     "execution_count": 7,
     "metadata": {},
     "output_type": "execute_result"
    }
   ],
   "source": [
    "# Checking the number of rows and columns\n",
    "df_c.shape"
   ]
  },
  {
   "cell_type": "code",
   "execution_count": 8,
   "id": "a1df1b10",
   "metadata": {},
   "outputs": [
    {
     "data": {
      "text/html": [
       "<div>\n",
       "<style scoped>\n",
       "    .dataframe tbody tr th:only-of-type {\n",
       "        vertical-align: middle;\n",
       "    }\n",
       "\n",
       "    .dataframe tbody tr th {\n",
       "        vertical-align: top;\n",
       "    }\n",
       "\n",
       "    .dataframe thead th {\n",
       "        text-align: right;\n",
       "    }\n",
       "</style>\n",
       "<table border=\"1\" class=\"dataframe\">\n",
       "  <thead>\n",
       "    <tr style=\"text-align: right;\">\n",
       "      <th></th>\n",
       "      <th>company</th>\n",
       "      <th>specific_bean_origin_or_bar_name</th>\n",
       "      <th>reference_number</th>\n",
       "      <th>review_date</th>\n",
       "      <th>cocoa_percent</th>\n",
       "      <th>company_location</th>\n",
       "      <th>rating</th>\n",
       "      <th>broad_bean_origin</th>\n",
       "      <th>cocoa_percent_category</th>\n",
       "    </tr>\n",
       "  </thead>\n",
       "  <tbody>\n",
       "    <tr>\n",
       "      <th>0</th>\n",
       "      <td>A. Morin</td>\n",
       "      <td>Agua Grande</td>\n",
       "      <td>1876</td>\n",
       "      <td>2016</td>\n",
       "      <td>0.63</td>\n",
       "      <td>France</td>\n",
       "      <td>3.75</td>\n",
       "      <td>Sao Tome</td>\n",
       "      <td>Low_cocoa_percentage</td>\n",
       "    </tr>\n",
       "    <tr>\n",
       "      <th>1</th>\n",
       "      <td>A. Morin</td>\n",
       "      <td>Kpime</td>\n",
       "      <td>1676</td>\n",
       "      <td>2015</td>\n",
       "      <td>0.70</td>\n",
       "      <td>France</td>\n",
       "      <td>2.75</td>\n",
       "      <td>Togo</td>\n",
       "      <td>Middle_cocoa_percentage</td>\n",
       "    </tr>\n",
       "    <tr>\n",
       "      <th>2</th>\n",
       "      <td>A. Morin</td>\n",
       "      <td>Atsane</td>\n",
       "      <td>1676</td>\n",
       "      <td>2015</td>\n",
       "      <td>0.70</td>\n",
       "      <td>France</td>\n",
       "      <td>3.00</td>\n",
       "      <td>Togo</td>\n",
       "      <td>Middle_cocoa_percentage</td>\n",
       "    </tr>\n",
       "    <tr>\n",
       "      <th>3</th>\n",
       "      <td>A. Morin</td>\n",
       "      <td>Akata</td>\n",
       "      <td>1680</td>\n",
       "      <td>2015</td>\n",
       "      <td>0.70</td>\n",
       "      <td>France</td>\n",
       "      <td>3.50</td>\n",
       "      <td>Togo</td>\n",
       "      <td>Middle_cocoa_percentage</td>\n",
       "    </tr>\n",
       "    <tr>\n",
       "      <th>4</th>\n",
       "      <td>A. Morin</td>\n",
       "      <td>Quilla</td>\n",
       "      <td>1704</td>\n",
       "      <td>2015</td>\n",
       "      <td>0.70</td>\n",
       "      <td>France</td>\n",
       "      <td>3.50</td>\n",
       "      <td>Peru</td>\n",
       "      <td>Middle_cocoa_percentage</td>\n",
       "    </tr>\n",
       "  </tbody>\n",
       "</table>\n",
       "</div>"
      ],
      "text/plain": [
       "    company specific_bean_origin_or_bar_name  reference_number  review_date  \\\n",
       "0  A. Morin                      Agua Grande              1876         2016   \n",
       "1  A. Morin                            Kpime              1676         2015   \n",
       "2  A. Morin                           Atsane              1676         2015   \n",
       "3  A. Morin                            Akata              1680         2015   \n",
       "4  A. Morin                           Quilla              1704         2015   \n",
       "\n",
       "   cocoa_percent company_location  rating broad_bean_origin  \\\n",
       "0           0.63           France    3.75          Sao Tome   \n",
       "1           0.70           France    2.75              Togo   \n",
       "2           0.70           France    3.00              Togo   \n",
       "3           0.70           France    3.50              Togo   \n",
       "4           0.70           France    3.50              Peru   \n",
       "\n",
       "    cocoa_percent_category  \n",
       "0     Low_cocoa_percentage  \n",
       "1  Middle_cocoa_percentage  \n",
       "2  Middle_cocoa_percentage  \n",
       "3  Middle_cocoa_percentage  \n",
       "4  Middle_cocoa_percentage  "
      ]
     },
     "execution_count": 8,
     "metadata": {},
     "output_type": "execute_result"
    }
   ],
   "source": [
    "df_c.head()"
   ]
  },
  {
   "cell_type": "markdown",
   "id": "8161818e",
   "metadata": {},
   "source": [
    "#### 03 Data consistency checks"
   ]
  },
  {
   "cell_type": "code",
   "execution_count": 9,
   "id": "a2f7605f",
   "metadata": {},
   "outputs": [],
   "source": [
    "# Checking for mixed-type data\n",
    "for col in df_c.columns.tolist():\n",
    "  weird = (df_c[[col]].applymap(type) != df_c[[col]].iloc[0].apply(type)).any(axis = 1)\n",
    "  if len (df_c[weird]) > 0:\n",
    "    print (col)"
   ]
  },
  {
   "cell_type": "markdown",
   "id": "b0ae4590",
   "metadata": {},
   "source": [
    "- No mixed-type data found."
   ]
  },
  {
   "cell_type": "code",
   "execution_count": 10,
   "id": "4b73c712",
   "metadata": {},
   "outputs": [
    {
     "data": {
      "text/plain": [
       "company                             0\n",
       "specific_bean_origin_or_bar_name    0\n",
       "reference_number                    0\n",
       "review_date                         0\n",
       "cocoa_percent                       0\n",
       "company_location                    0\n",
       "rating                              0\n",
       "broad_bean_origin                   0\n",
       "cocoa_percent_category              0\n",
       "dtype: int64"
      ]
     },
     "execution_count": 10,
     "metadata": {},
     "output_type": "execute_result"
    }
   ],
   "source": [
    "# Missing values - finding missing values\n",
    "df_c.isnull().sum()"
   ]
  },
  {
   "cell_type": "code",
   "execution_count": 11,
   "id": "62f09ecd",
   "metadata": {},
   "outputs": [],
   "source": [
    "# Duplicates - finding duplicates\n",
    "df_c_ = df_c[df_c.duplicated()]"
   ]
  },
  {
   "cell_type": "code",
   "execution_count": 12,
   "id": "2a2f97d0",
   "metadata": {},
   "outputs": [
    {
     "data": {
      "text/html": [
       "<div>\n",
       "<style scoped>\n",
       "    .dataframe tbody tr th:only-of-type {\n",
       "        vertical-align: middle;\n",
       "    }\n",
       "\n",
       "    .dataframe tbody tr th {\n",
       "        vertical-align: top;\n",
       "    }\n",
       "\n",
       "    .dataframe thead th {\n",
       "        text-align: right;\n",
       "    }\n",
       "</style>\n",
       "<table border=\"1\" class=\"dataframe\">\n",
       "  <thead>\n",
       "    <tr style=\"text-align: right;\">\n",
       "      <th></th>\n",
       "      <th>company</th>\n",
       "      <th>specific_bean_origin_or_bar_name</th>\n",
       "      <th>reference_number</th>\n",
       "      <th>review_date</th>\n",
       "      <th>cocoa_percent</th>\n",
       "      <th>company_location</th>\n",
       "      <th>rating</th>\n",
       "      <th>broad_bean_origin</th>\n",
       "      <th>cocoa_percent_category</th>\n",
       "    </tr>\n",
       "  </thead>\n",
       "  <tbody>\n",
       "  </tbody>\n",
       "</table>\n",
       "</div>"
      ],
      "text/plain": [
       "Empty DataFrame\n",
       "Columns: [company, specific_bean_origin_or_bar_name, reference_number, review_date, cocoa_percent, company_location, rating, broad_bean_origin, cocoa_percent_category]\n",
       "Index: []"
      ]
     },
     "execution_count": 12,
     "metadata": {},
     "output_type": "execute_result"
    }
   ],
   "source": [
    "df_c_"
   ]
  },
  {
   "cell_type": "code",
   "execution_count": 13,
   "id": "3080adb9",
   "metadata": {},
   "outputs": [
    {
     "data": {
      "text/plain": [
       "(0, 9)"
      ]
     },
     "execution_count": 13,
     "metadata": {},
     "output_type": "execute_result"
    }
   ],
   "source": [
    "df_c_.shape"
   ]
  },
  {
   "cell_type": "markdown",
   "id": "a5aa4b76",
   "metadata": {},
   "source": [
    "- No duplicates found."
   ]
  },
  {
   "cell_type": "code",
   "execution_count": 14,
   "id": "b8eab438",
   "metadata": {},
   "outputs": [
    {
     "data": {
      "text/plain": [
       "0.717167344567123"
      ]
     },
     "execution_count": 14,
     "metadata": {},
     "output_type": "execute_result"
    }
   ],
   "source": [
    "# Check the mean\n",
    "df_c['cocoa_percent'].mean() "
   ]
  },
  {
   "cell_type": "code",
   "execution_count": 15,
   "id": "484c84ef",
   "metadata": {},
   "outputs": [
    {
     "data": {
      "text/plain": [
       "0.7"
      ]
     },
     "execution_count": 15,
     "metadata": {},
     "output_type": "execute_result"
    }
   ],
   "source": [
    "# Check the median\n",
    "df_c['cocoa_percent'].median() "
   ]
  },
  {
   "cell_type": "code",
   "execution_count": 16,
   "id": "d9c72d1a",
   "metadata": {},
   "outputs": [
    {
     "data": {
      "text/plain": [
       "1.0"
      ]
     },
     "execution_count": 16,
     "metadata": {},
     "output_type": "execute_result"
    }
   ],
   "source": [
    "# Check the max\n",
    "df_c['cocoa_percent'].max() "
   ]
  },
  {
   "cell_type": "code",
   "execution_count": 17,
   "id": "93414eb6",
   "metadata": {},
   "outputs": [],
   "source": [
    "%matplotlib inline"
   ]
  },
  {
   "cell_type": "markdown",
   "id": "1d5fc8c5",
   "metadata": {},
   "source": [
    "#### 04 Data prep for regression analysis"
   ]
  },
  {
   "cell_type": "code",
   "execution_count": 18,
   "id": "7650266d",
   "metadata": {},
   "outputs": [
    {
     "data": {
      "image/png": "[encoded data removed]",
      "text/plain": [
       "<Figure size 640x480 with 1 Axes>"
      ]
     },
     "metadata": {},
     "output_type": "display_data"
    }
   ],
   "source": [
    "# Step 4 - Explore data visually - Create a scatterplot for variables 'rating' and 'cocoa_percent' \n",
    "df_c.plot(x = 'cocoa_percent', y='rating', style='o') \n",
    "plt.title('Rating vs Cocoa percent')  \n",
    "plt.xlabel('cocoa_percent')  \n",
    "plt.ylabel('rating')  \n",
    "plt.show()"
   ]
  },
  {
   "cell_type": "markdown",
   "id": "d9116116",
   "metadata": {},
   "source": [
    "- Step 5 - Hypothesis:\n",
    "- *Chocolate bars with 65 – 77 percent of cocoa will have higher rating than chocolate bars with higher or lower cocoa percent.*\n"
   ]
  },
  {
   "cell_type": "code",
   "execution_count": 19,
   "id": "a0851021",
   "metadata": {},
   "outputs": [],
   "source": [
    "# Step 6 - Reshape the variables into NumPy arrays and puting them into separate objects\n",
    "\n",
    "X = df_c['cocoa_percent'].values.reshape(-1,1)\n",
    "y = df_c['rating'].values.reshape(-1,1)"
   ]
  },
  {
   "cell_type": "code",
   "execution_count": 20,
   "id": "6ac8e16f",
   "metadata": {},
   "outputs": [
    {
     "data": {
      "text/plain": [
       "array([[0.63],\n",
       "       [0.7 ],\n",
       "       [0.7 ],\n",
       "       ...,\n",
       "       [0.65],\n",
       "       [0.62],\n",
       "       [0.65]])"
      ]
     },
     "execution_count": 20,
     "metadata": {},
     "output_type": "execute_result"
    }
   ],
   "source": [
    "X"
   ]
  },
  {
   "cell_type": "code",
   "execution_count": 21,
   "id": "bf9a9b17",
   "metadata": {},
   "outputs": [
    {
     "data": {
      "text/plain": [
       "array([[3.75],\n",
       "       [2.75],\n",
       "       [3.  ],\n",
       "       ...,\n",
       "       [3.5 ],\n",
       "       [3.25],\n",
       "       [3.  ]])"
      ]
     },
     "execution_count": 21,
     "metadata": {},
     "output_type": "execute_result"
    }
   ],
   "source": [
    "y"
   ]
  },
  {
   "cell_type": "code",
   "execution_count": 22,
   "id": "7227049e",
   "metadata": {},
   "outputs": [],
   "source": [
    "# Step 7 - Splitting data into a training set and a test set\n",
    "\n",
    "X_train, X_test, y_train, y_test = train_test_split(X, y, test_size=0.3, random_state=0)"
   ]
  },
  {
   "cell_type": "markdown",
   "id": "7f3984ce",
   "metadata": {},
   "source": [
    "#### 05 Linear regression analysis"
   ]
  },
  {
   "cell_type": "code",
   "execution_count": 23,
   "id": "d0f84341",
   "metadata": {},
   "outputs": [],
   "source": [
    "# Create a regression object\n",
    "\n",
    "regression = LinearRegression()  "
   ]
  },
  {
   "cell_type": "code",
   "execution_count": 24,
   "id": "0fc15826",
   "metadata": {},
   "outputs": [
    {
     "data": {
      "text/plain": [
       "LinearRegression()"
      ]
     },
     "execution_count": 24,
     "metadata": {},
     "output_type": "execute_result"
    }
   ],
   "source": [
    "# Step 8.1 - Fit the regression object onto the training set\n",
    "\n",
    "regression.fit(X_train, y_train)"
   ]
  },
  {
   "cell_type": "code",
   "execution_count": 25,
   "id": "2af49443",
   "metadata": {},
   "outputs": [],
   "source": [
    "# Step 8.2 - Predict the values of y using X\n",
    "\n",
    "y_predicted = regression.predict(X_test)"
   ]
  },
  {
   "cell_type": "code",
   "execution_count": 26,
   "id": "3c690b02",
   "metadata": {},
   "outputs": [
    {
     "data": {
      "image/png": "[encoded data removed]",
      "text/plain": [
       "<Figure size 640x480 with 1 Axes>"
      ]
     },
     "metadata": {},
     "output_type": "display_data"
    }
   ],
   "source": [
    "# Step 9 - Create a plot that shows the regression line from the model on the test set\n",
    "\n",
    "plot_test = plt\n",
    "plot_test.scatter(X_test, y_test, color='gray', s = 15)\n",
    "plot_test.plot(X_test, y_predicted, color='red', linewidth =3)\n",
    "plot_test.title('Rating vs Cocoa Percent  (Test set)')\n",
    "plot_test.xlabel('cocoa_percent')\n",
    "plot_test.ylabel('rating')\n",
    "plot_test.show()"
   ]
  },
  {
   "cell_type": "markdown",
   "id": "a29363ee",
   "metadata": {},
   "source": [
    "- Step 10 - It can be noticed that the data points are not very close to the regression line. "
   ]
  },
  {
   "cell_type": "code",
   "execution_count": 27,
   "id": "dc8c621e",
   "metadata": {},
   "outputs": [],
   "source": [
    "# Create objects that contain the model summary statistics\n",
    "\n",
    "rmse = mean_squared_error(y_test, y_predicted) \n",
    "r2 = r2_score(y_test, y_predicted)  "
   ]
  },
  {
   "cell_type": "code",
   "execution_count": 28,
   "id": "7cbd8575",
   "metadata": {},
   "outputs": [
    {
     "name": "stdout",
     "output_type": "stream",
     "text": [
      "Slope: [[-1.23491977]]\n",
      "Mean squared error:  0.21013904684868834\n",
      "R2 score:  0.004749094558398226\n"
     ]
    }
   ],
   "source": [
    "# Step 11 - Check the model perfomance statistics\n",
    "print('Slope:' ,regression.coef_)\n",
    "print('Mean squared error: ', rmse)\n",
    "print('R2 score: ', r2)"
   ]
  },
  {
   "cell_type": "code",
   "execution_count": 29,
   "id": "54077d46",
   "metadata": {},
   "outputs": [
    {
     "data": {
      "text/plain": [
       "array([[3.20739355],\n",
       "       [3.18269516],\n",
       "       [3.20739355],\n",
       "       [3.20739355],\n",
       "       [3.14564757],\n",
       "       [3.28148874],\n",
       "       [3.14564757],\n",
       "       [3.14564757],\n",
       "       [3.18269516],\n",
       "       [3.18269516],\n",
       "       [3.20739355],\n",
       "       [3.28148874],\n",
       "       [3.20739355],\n",
       "       [3.20739355],\n",
       "       [3.19504436],\n",
       "       [3.26913954],\n",
       "       [3.18269516],\n",
       "       [3.20739355],\n",
       "       [3.18269516],\n",
       "       [3.20739355],\n",
       "       [3.19504436],\n",
       "       [3.20739355],\n",
       "       [3.18269516],\n",
       "       [3.23209195],\n",
       "       [3.20739355],\n",
       "       [3.18269516],\n",
       "       [2.83691762],\n",
       "       [3.20739355],\n",
       "       [3.20739355],\n",
       "       [3.20739355],\n",
       "       [3.20739355],\n",
       "       [3.13329837],\n",
       "       [3.20739355],\n",
       "       [3.20739355],\n",
       "       [2.9480604 ],\n",
       "       [3.18269516],\n",
       "       [3.18269516],\n",
       "       [3.08390158],\n",
       "       [3.14564757],\n",
       "       [3.20739355],\n",
       "       [3.20739355],\n",
       "       [3.20739355],\n",
       "       [3.39263152],\n",
       "       [3.20739355],\n",
       "       [3.20739355],\n",
       "       [3.12094917],\n",
       "       [3.20739355],\n",
       "       [3.12094917],\n",
       "       [3.12094917],\n",
       "       [3.14564757],\n",
       "       [3.14564757],\n",
       "       [3.20739355],\n",
       "       [3.33088553],\n",
       "       [3.14564757],\n",
       "       [3.20739355],\n",
       "       [3.20739355],\n",
       "       [3.20739355],\n",
       "       [3.33088553],\n",
       "       [3.12094917],\n",
       "       [3.18269516],\n",
       "       [3.20739355],\n",
       "       [3.20739355],\n",
       "       [3.18269516],\n",
       "       [3.19504436],\n",
       "       [3.14564757],\n",
       "       [3.20739355],\n",
       "       [3.20739355],\n",
       "       [3.17034596],\n",
       "       [3.20739355],\n",
       "       [3.20739355],\n",
       "       [3.15799676],\n",
       "       [3.08390158],\n",
       "       [3.24444115],\n",
       "       [3.13329837],\n",
       "       [3.20739355],\n",
       "       [3.17034596],\n",
       "       [3.20739355],\n",
       "       [3.20739355],\n",
       "       [3.14564757],\n",
       "       [3.20739355],\n",
       "       [3.20739355],\n",
       "       [3.18269516],\n",
       "       [3.28148874],\n",
       "       [3.15799676],\n",
       "       [3.31853633],\n",
       "       [3.20739355],\n",
       "       [3.18269516],\n",
       "       [3.14564757],\n",
       "       [3.20739355],\n",
       "       [3.20739355],\n",
       "       [3.20739355],\n",
       "       [3.13329837],\n",
       "       [3.20739355],\n",
       "       [3.20739355],\n",
       "       [3.14564757],\n",
       "       [2.83691762],\n",
       "       [3.12094917],\n",
       "       [3.20739355],\n",
       "       [3.14564757],\n",
       "       [3.20739355],\n",
       "       [3.02215559],\n",
       "       [3.14564757],\n",
       "       [3.33088553],\n",
       "       [3.26913954],\n",
       "       [2.985108  ],\n",
       "       [3.29383794],\n",
       "       [3.20739355],\n",
       "       [3.26913954],\n",
       "       [3.18269516],\n",
       "       [3.20739355],\n",
       "       [3.02215559],\n",
       "       [3.20739355],\n",
       "       [3.21974275],\n",
       "       [3.30618714],\n",
       "       [3.20739355],\n",
       "       [3.20739355],\n",
       "       [3.15799676],\n",
       "       [3.20739355],\n",
       "       [3.19504436],\n",
       "       [3.20739355],\n",
       "       [3.20739355],\n",
       "       [3.20739355],\n",
       "       [3.38028232],\n",
       "       [3.28148874],\n",
       "       [3.18269516],\n",
       "       [3.28148874],\n",
       "       [3.14564757],\n",
       "       [3.02215559],\n",
       "       [3.20739355],\n",
       "       [3.14564757],\n",
       "       [3.20739355],\n",
       "       [3.20739355],\n",
       "       [3.20739355],\n",
       "       [3.20739355],\n",
       "       [3.00980639],\n",
       "       [3.20739355],\n",
       "       [3.20739355],\n",
       "       [2.83691762],\n",
       "       [3.23209195],\n",
       "       [3.12094917],\n",
       "       [3.20739355],\n",
       "       [3.20739355],\n",
       "       [3.20739355],\n",
       "       [3.30618714],\n",
       "       [3.35558393],\n",
       "       [3.14564757],\n",
       "       [3.14564757],\n",
       "       [3.14564757],\n",
       "       [3.20739355],\n",
       "       [3.20739355],\n",
       "       [3.20739355],\n",
       "       [3.18269516],\n",
       "       [3.14564757],\n",
       "       [3.14564757],\n",
       "       [3.14564757],\n",
       "       [3.18269516],\n",
       "       [3.18269516],\n",
       "       [3.26913954],\n",
       "       [3.17034596],\n",
       "       [3.33088553],\n",
       "       [3.39263152],\n",
       "       [3.20739355],\n",
       "       [3.20739355],\n",
       "       [3.12094917],\n",
       "       [3.18269516],\n",
       "       [3.20739355],\n",
       "       [3.20739355],\n",
       "       [3.20739355],\n",
       "       [3.20739355],\n",
       "       [3.20739355],\n",
       "       [3.17034596],\n",
       "       [3.20739355],\n",
       "       [3.20739355],\n",
       "       [3.12094917],\n",
       "       [3.20739355],\n",
       "       [3.20739355],\n",
       "       [3.23209195],\n",
       "       [3.14564757],\n",
       "       [3.5037743 ],\n",
       "       [3.20739355],\n",
       "       [3.02215559],\n",
       "       [3.18269516],\n",
       "       [3.28148874],\n",
       "       [3.20739355],\n",
       "       [3.26913954],\n",
       "       [3.12094917],\n",
       "       [3.20739355],\n",
       "       [3.02215559],\n",
       "       [3.02215559],\n",
       "       [3.17034596],\n",
       "       [3.18269516],\n",
       "       [3.20739355],\n",
       "       [3.13329837],\n",
       "       [3.18269516],\n",
       "       [3.20739355],\n",
       "       [3.20739355],\n",
       "       [2.9604096 ],\n",
       "       [3.19504436],\n",
       "       [3.20739355],\n",
       "       [3.14564757],\n",
       "       [3.20739355],\n",
       "       [3.08390158],\n",
       "       [3.20739355],\n",
       "       [3.33088553],\n",
       "       [3.35558393],\n",
       "       [3.18269516],\n",
       "       [3.14564757],\n",
       "       [3.20739355],\n",
       "       [3.19504436],\n",
       "       [3.18269516],\n",
       "       [3.25679034],\n",
       "       [3.23209195],\n",
       "       [3.08390158],\n",
       "       [3.20739355],\n",
       "       [2.9604096 ],\n",
       "       [3.12094917],\n",
       "       [3.20739355],\n",
       "       [2.84926682],\n",
       "       [3.25679034],\n",
       "       [3.20739355],\n",
       "       [3.14564757],\n",
       "       [3.20739355],\n",
       "       [3.12094917],\n",
       "       [3.33088553],\n",
       "       [3.20739355],\n",
       "       [3.18269516],\n",
       "       [3.20739355],\n",
       "       [3.18269516],\n",
       "       [3.15799676],\n",
       "       [3.20739355],\n",
       "       [3.14564757],\n",
       "       [3.08390158],\n",
       "       [3.20739355],\n",
       "       [3.14564757],\n",
       "       [3.20739355],\n",
       "       [3.20739355],\n",
       "       [3.20739355],\n",
       "       [3.19504436],\n",
       "       [3.18269516],\n",
       "       [3.20739355],\n",
       "       [3.14564757],\n",
       "       [3.12094917],\n",
       "       [3.31853633],\n",
       "       [3.02215559],\n",
       "       [3.18269516],\n",
       "       [3.25679034],\n",
       "       [3.28148874],\n",
       "       [3.20739355],\n",
       "       [3.08390158],\n",
       "       [3.20739355],\n",
       "       [3.20739355],\n",
       "       [3.20739355],\n",
       "       [3.20739355],\n",
       "       [3.18269516],\n",
       "       [3.20739355],\n",
       "       [3.12094917],\n",
       "       [3.18269516],\n",
       "       [3.23209195],\n",
       "       [3.20739355],\n",
       "       [3.20739355],\n",
       "       [3.20739355],\n",
       "       [3.14564757],\n",
       "       [3.12094917],\n",
       "       [3.13329837],\n",
       "       [3.02215559],\n",
       "       [3.05920318],\n",
       "       [3.18269516],\n",
       "       [3.20739355],\n",
       "       [3.28148874],\n",
       "       [3.20739355],\n",
       "       [3.20739355],\n",
       "       [3.14564757],\n",
       "       [3.05920318],\n",
       "       [3.20739355],\n",
       "       [3.28148874],\n",
       "       [3.20739355],\n",
       "       [3.29383794],\n",
       "       [3.21974275],\n",
       "       [2.985108  ],\n",
       "       [3.23209195],\n",
       "       [3.18269516],\n",
       "       [3.24444115],\n",
       "       [3.26913954],\n",
       "       [3.14564757],\n",
       "       [3.20739355],\n",
       "       [3.26913954],\n",
       "       [3.20739355],\n",
       "       [3.20739355],\n",
       "       [2.985108  ],\n",
       "       [3.14564757],\n",
       "       [3.20739355],\n",
       "       [3.20739355],\n",
       "       [3.19504436],\n",
       "       [3.26913954],\n",
       "       [3.08390158],\n",
       "       [3.18269516],\n",
       "       [3.20739355],\n",
       "       [3.18269516],\n",
       "       [3.23209195],\n",
       "       [3.14564757],\n",
       "       [3.08390158],\n",
       "       [3.20739355],\n",
       "       [3.18269516],\n",
       "       [3.15799676],\n",
       "       [3.20739355],\n",
       "       [3.14564757],\n",
       "       [3.14564757],\n",
       "       [3.26913954],\n",
       "       [3.20739355],\n",
       "       [3.18269516],\n",
       "       [3.08390158],\n",
       "       [3.17034596],\n",
       "       [3.20739355],\n",
       "       [3.20739355],\n",
       "       [3.23209195],\n",
       "       [3.10859997],\n",
       "       [3.20739355],\n",
       "       [3.20739355],\n",
       "       [3.20739355],\n",
       "       [3.20739355],\n",
       "       [3.26913954],\n",
       "       [3.13329837],\n",
       "       [3.20739355],\n",
       "       [3.18269516],\n",
       "       [3.14564757],\n",
       "       [3.29383794],\n",
       "       [3.17034596],\n",
       "       [3.26913954],\n",
       "       [3.18269516],\n",
       "       [3.08390158],\n",
       "       [3.14564757],\n",
       "       [3.26913954],\n",
       "       [3.20739355],\n",
       "       [3.20739355],\n",
       "       [3.18269516],\n",
       "       [3.20739355],\n",
       "       [3.26913954],\n",
       "       [3.19504436],\n",
       "       [3.20739355],\n",
       "       [3.31853633],\n",
       "       [3.33088553],\n",
       "       [3.14564757],\n",
       "       [3.20739355],\n",
       "       [3.14564757],\n",
       "       [3.35558393],\n",
       "       [2.83691762],\n",
       "       [3.25679034],\n",
       "       [3.33088553],\n",
       "       [3.20739355],\n",
       "       [3.15799676],\n",
       "       [3.20739355],\n",
       "       [3.20739355],\n",
       "       [3.18269516],\n",
       "       [3.02215559],\n",
       "       [3.18269516],\n",
       "       [3.29383794],\n",
       "       [3.29383794],\n",
       "       [3.20739355],\n",
       "       [3.33088553],\n",
       "       [3.26913954],\n",
       "       [2.9727588 ],\n",
       "       [3.20739355],\n",
       "       [3.35558393],\n",
       "       [3.28148874],\n",
       "       [2.83691762],\n",
       "       [3.15799676],\n",
       "       [3.20739355],\n",
       "       [3.18269516],\n",
       "       [3.20739355],\n",
       "       [3.20739355],\n",
       "       [3.18269516],\n",
       "       [3.23209195],\n",
       "       [3.20739355],\n",
       "       [2.985108  ],\n",
       "       [3.28148874],\n",
       "       [3.20739355],\n",
       "       [3.28148874],\n",
       "       [3.18269516],\n",
       "       [3.20739355],\n",
       "       [3.20739355],\n",
       "       [3.18269516],\n",
       "       [3.14564757],\n",
       "       [3.08390158],\n",
       "       [3.14564757],\n",
       "       [3.14564757],\n",
       "       [3.33088553],\n",
       "       [3.20739355],\n",
       "       [3.08390158],\n",
       "       [3.20739355],\n",
       "       [3.18269516],\n",
       "       [3.20739355],\n",
       "       [3.14564757],\n",
       "       [3.20739355],\n",
       "       [3.20739355],\n",
       "       [3.20739355],\n",
       "       [3.23209195],\n",
       "       [3.20739355],\n",
       "       [3.20739355],\n",
       "       [3.20739355],\n",
       "       [3.14564757],\n",
       "       [3.10859997],\n",
       "       [3.14564757],\n",
       "       [3.08390158],\n",
       "       [3.20739355],\n",
       "       [3.20739355],\n",
       "       [3.30618714],\n",
       "       [3.20739355],\n",
       "       [3.28148874],\n",
       "       [3.14564757],\n",
       "       [3.20739355],\n",
       "       [3.18269516],\n",
       "       [3.20739355],\n",
       "       [3.28148874],\n",
       "       [3.20739355],\n",
       "       [3.02215559],\n",
       "       [3.20739355],\n",
       "       [3.20739355],\n",
       "       [3.20739355],\n",
       "       [3.26913954],\n",
       "       [3.20739355],\n",
       "       [3.24444115],\n",
       "       [3.08390158],\n",
       "       [3.33088553],\n",
       "       [3.24444115],\n",
       "       [3.20739355],\n",
       "       [3.20739355],\n",
       "       [3.17034596],\n",
       "       [3.20739355],\n",
       "       [3.14564757],\n",
       "       [3.20739355],\n",
       "       [3.13329837],\n",
       "       [3.15799676],\n",
       "       [3.14564757],\n",
       "       [3.23209195],\n",
       "       [3.14564757],\n",
       "       [3.14564757],\n",
       "       [3.20739355],\n",
       "       [3.17034596],\n",
       "       [3.02215559],\n",
       "       [3.20739355],\n",
       "       [3.20739355],\n",
       "       [3.14564757],\n",
       "       [3.20739355],\n",
       "       [3.23209195],\n",
       "       [2.9604096 ],\n",
       "       [3.17034596],\n",
       "       [3.20739355],\n",
       "       [3.19504436],\n",
       "       [3.36793312],\n",
       "       [3.02215559],\n",
       "       [3.15799676],\n",
       "       [3.12094917],\n",
       "       [3.20739355],\n",
       "       [2.99745719],\n",
       "       [3.14564757],\n",
       "       [3.19504436],\n",
       "       [3.23209195],\n",
       "       [3.14564757],\n",
       "       [3.18269516],\n",
       "       [3.08390158],\n",
       "       [3.14564757],\n",
       "       [3.20739355],\n",
       "       [3.20739355],\n",
       "       [3.33088553],\n",
       "       [3.05920318],\n",
       "       [3.18269516],\n",
       "       [3.18269516],\n",
       "       [3.20739355],\n",
       "       [3.20739355],\n",
       "       [3.20739355],\n",
       "       [3.18269516],\n",
       "       [3.19504436],\n",
       "       [3.20739355],\n",
       "       [3.39263152],\n",
       "       [3.18269516],\n",
       "       [3.20739355],\n",
       "       [3.12094917],\n",
       "       [3.15799676],\n",
       "       [3.20739355],\n",
       "       [3.20739355],\n",
       "       [3.15799676],\n",
       "       [3.33088553],\n",
       "       [3.20739355],\n",
       "       [3.20739355],\n",
       "       [3.18269516],\n",
       "       [3.20739355],\n",
       "       [3.20739355],\n",
       "       [3.20739355],\n",
       "       [3.24444115],\n",
       "       [3.21974275],\n",
       "       [3.20739355],\n",
       "       [3.14564757],\n",
       "       [3.20739355],\n",
       "       [3.20739355],\n",
       "       [3.14564757],\n",
       "       [3.28148874],\n",
       "       [3.35558393],\n",
       "       [3.14564757],\n",
       "       [3.14564757],\n",
       "       [3.08390158],\n",
       "       [3.13329837],\n",
       "       [3.20739355],\n",
       "       [3.14564757],\n",
       "       [3.18269516],\n",
       "       [3.07155238],\n",
       "       [3.20739355],\n",
       "       [3.20739355],\n",
       "       [3.26913954],\n",
       "       [3.10859997],\n",
       "       [3.20739355],\n",
       "       [3.18269516],\n",
       "       [3.18269516],\n",
       "       [3.18269516],\n",
       "       [3.14564757],\n",
       "       [3.20739355],\n",
       "       [3.20739355],\n",
       "       [3.20739355]])"
      ]
     },
     "execution_count": 29,
     "metadata": {},
     "output_type": "execute_result"
    }
   ],
   "source": [
    "# Step 12 - Predicted y values\n",
    "y_predicted"
   ]
  },
  {
   "cell_type": "code",
   "execution_count": 30,
   "id": "313cfaa3",
   "metadata": {},
   "outputs": [
    {
     "data": {
      "text/html": [
       "<div>\n",
       "<style scoped>\n",
       "    .dataframe tbody tr th:only-of-type {\n",
       "        vertical-align: middle;\n",
       "    }\n",
       "\n",
       "    .dataframe tbody tr th {\n",
       "        vertical-align: top;\n",
       "    }\n",
       "\n",
       "    .dataframe thead th {\n",
       "        text-align: right;\n",
       "    }\n",
       "</style>\n",
       "<table border=\"1\" class=\"dataframe\">\n",
       "  <thead>\n",
       "    <tr style=\"text-align: right;\">\n",
       "      <th></th>\n",
       "      <th>Actual</th>\n",
       "      <th>Predicted</th>\n",
       "    </tr>\n",
       "  </thead>\n",
       "  <tbody>\n",
       "    <tr>\n",
       "      <th>0</th>\n",
       "      <td>3.00</td>\n",
       "      <td>3.207394</td>\n",
       "    </tr>\n",
       "    <tr>\n",
       "      <th>1</th>\n",
       "      <td>3.25</td>\n",
       "      <td>3.182695</td>\n",
       "    </tr>\n",
       "    <tr>\n",
       "      <th>2</th>\n",
       "      <td>3.50</td>\n",
       "      <td>3.207394</td>\n",
       "    </tr>\n",
       "    <tr>\n",
       "      <th>3</th>\n",
       "      <td>3.25</td>\n",
       "      <td>3.207394</td>\n",
       "    </tr>\n",
       "    <tr>\n",
       "      <th>4</th>\n",
       "      <td>3.00</td>\n",
       "      <td>3.145648</td>\n",
       "    </tr>\n",
       "    <tr>\n",
       "      <th>5</th>\n",
       "      <td>2.50</td>\n",
       "      <td>3.281489</td>\n",
       "    </tr>\n",
       "    <tr>\n",
       "      <th>6</th>\n",
       "      <td>2.50</td>\n",
       "      <td>3.145648</td>\n",
       "    </tr>\n",
       "    <tr>\n",
       "      <th>7</th>\n",
       "      <td>2.75</td>\n",
       "      <td>3.145648</td>\n",
       "    </tr>\n",
       "    <tr>\n",
       "      <th>8</th>\n",
       "      <td>2.75</td>\n",
       "      <td>3.182695</td>\n",
       "    </tr>\n",
       "    <tr>\n",
       "      <th>9</th>\n",
       "      <td>3.00</td>\n",
       "      <td>3.182695</td>\n",
       "    </tr>\n",
       "    <tr>\n",
       "      <th>10</th>\n",
       "      <td>3.50</td>\n",
       "      <td>3.207394</td>\n",
       "    </tr>\n",
       "    <tr>\n",
       "      <th>11</th>\n",
       "      <td>3.50</td>\n",
       "      <td>3.281489</td>\n",
       "    </tr>\n",
       "    <tr>\n",
       "      <th>12</th>\n",
       "      <td>3.75</td>\n",
       "      <td>3.207394</td>\n",
       "    </tr>\n",
       "    <tr>\n",
       "      <th>13</th>\n",
       "      <td>2.75</td>\n",
       "      <td>3.207394</td>\n",
       "    </tr>\n",
       "    <tr>\n",
       "      <th>14</th>\n",
       "      <td>3.00</td>\n",
       "      <td>3.195044</td>\n",
       "    </tr>\n",
       "    <tr>\n",
       "      <th>15</th>\n",
       "      <td>2.50</td>\n",
       "      <td>3.269140</td>\n",
       "    </tr>\n",
       "    <tr>\n",
       "      <th>16</th>\n",
       "      <td>3.75</td>\n",
       "      <td>3.182695</td>\n",
       "    </tr>\n",
       "    <tr>\n",
       "      <th>17</th>\n",
       "      <td>4.00</td>\n",
       "      <td>3.207394</td>\n",
       "    </tr>\n",
       "    <tr>\n",
       "      <th>18</th>\n",
       "      <td>3.00</td>\n",
       "      <td>3.182695</td>\n",
       "    </tr>\n",
       "    <tr>\n",
       "      <th>19</th>\n",
       "      <td>3.75</td>\n",
       "      <td>3.207394</td>\n",
       "    </tr>\n",
       "    <tr>\n",
       "      <th>20</th>\n",
       "      <td>3.50</td>\n",
       "      <td>3.195044</td>\n",
       "    </tr>\n",
       "    <tr>\n",
       "      <th>21</th>\n",
       "      <td>2.75</td>\n",
       "      <td>3.207394</td>\n",
       "    </tr>\n",
       "    <tr>\n",
       "      <th>22</th>\n",
       "      <td>2.75</td>\n",
       "      <td>3.182695</td>\n",
       "    </tr>\n",
       "    <tr>\n",
       "      <th>23</th>\n",
       "      <td>3.50</td>\n",
       "      <td>3.232092</td>\n",
       "    </tr>\n",
       "    <tr>\n",
       "      <th>24</th>\n",
       "      <td>4.00</td>\n",
       "      <td>3.207394</td>\n",
       "    </tr>\n",
       "    <tr>\n",
       "      <th>25</th>\n",
       "      <td>2.25</td>\n",
       "      <td>3.182695</td>\n",
       "    </tr>\n",
       "    <tr>\n",
       "      <th>26</th>\n",
       "      <td>1.50</td>\n",
       "      <td>2.836918</td>\n",
       "    </tr>\n",
       "    <tr>\n",
       "      <th>27</th>\n",
       "      <td>3.50</td>\n",
       "      <td>3.207394</td>\n",
       "    </tr>\n",
       "    <tr>\n",
       "      <th>28</th>\n",
       "      <td>3.25</td>\n",
       "      <td>3.207394</td>\n",
       "    </tr>\n",
       "    <tr>\n",
       "      <th>29</th>\n",
       "      <td>3.75</td>\n",
       "      <td>3.207394</td>\n",
       "    </tr>\n",
       "  </tbody>\n",
       "</table>\n",
       "</div>"
      ],
      "text/plain": [
       "    Actual  Predicted\n",
       "0     3.00   3.207394\n",
       "1     3.25   3.182695\n",
       "2     3.50   3.207394\n",
       "3     3.25   3.207394\n",
       "4     3.00   3.145648\n",
       "5     2.50   3.281489\n",
       "6     2.50   3.145648\n",
       "7     2.75   3.145648\n",
       "8     2.75   3.182695\n",
       "9     3.00   3.182695\n",
       "10    3.50   3.207394\n",
       "11    3.50   3.281489\n",
       "12    3.75   3.207394\n",
       "13    2.75   3.207394\n",
       "14    3.00   3.195044\n",
       "15    2.50   3.269140\n",
       "16    3.75   3.182695\n",
       "17    4.00   3.207394\n",
       "18    3.00   3.182695\n",
       "19    3.75   3.207394\n",
       "20    3.50   3.195044\n",
       "21    2.75   3.207394\n",
       "22    2.75   3.182695\n",
       "23    3.50   3.232092\n",
       "24    4.00   3.207394\n",
       "25    2.25   3.182695\n",
       "26    1.50   2.836918\n",
       "27    3.50   3.207394\n",
       "28    3.25   3.207394\n",
       "29    3.75   3.207394"
      ]
     },
     "execution_count": 30,
     "metadata": {},
     "output_type": "execute_result"
    }
   ],
   "source": [
    "# Step 12 - Create a dataframe comparing the actual and predicted values of y\n",
    "\n",
    "data = pd.DataFrame({'Actual': y_test.flatten(), 'Predicted': y_predicted.flatten()})\n",
    "data.head(30)"
   ]
  },
  {
   "cell_type": "markdown",
   "id": "ee939bc6",
   "metadata": {},
   "source": [
    "- Checking the model summary statistics, it can be observed existing of negative relationship between variables looking at the slope. Observing R2 score value, which is closer to 0 than 1, what means that it is not so good fit. Looking at summary statistics we can say that linear regression model isn't a good fit, maybe another model would be better fit, that is what should be researched further."
   ]
  },
  {
   "cell_type": "code",
   "execution_count": 31,
   "id": "732e8c91",
   "metadata": {},
   "outputs": [],
   "source": [
    "# Comparing how the regression fits the training set\n",
    "# Predict\n",
    "y_predicted_train = regression.predict(X_train) "
   ]
  },
  {
   "cell_type": "code",
   "execution_count": 32,
   "id": "4f3d8ccb",
   "metadata": {},
   "outputs": [],
   "source": [
    "rmse = mean_squared_error(y_train, y_predicted_train)\n",
    "r2 = r2_score(y_train, y_predicted_train)"
   ]
  },
  {
   "cell_type": "code",
   "execution_count": 33,
   "id": "6ea8b3c9",
   "metadata": {},
   "outputs": [
    {
     "name": "stdout",
     "output_type": "stream",
     "text": [
      "Slope: [[-1.23491977]]\n",
      "Mean squared error:  0.20693647753401048\n",
      "R2 score:  0.02572833341667846\n"
     ]
    }
   ],
   "source": [
    "# Checking perfomance statistics\n",
    "print('Slope:' ,regression.coef_)\n",
    "print('Mean squared error: ', rmse)\n",
    "print('R2 score: ', r2)"
   ]
  },
  {
   "cell_type": "code",
   "execution_count": 34,
   "id": "9fe7b427",
   "metadata": {},
   "outputs": [
    {
     "data": {
      "image/png": "[encoded data removed]",
      "text/plain": [
       "<Figure size 640x480 with 1 Axes>"
      ]
     },
     "metadata": {},
     "output_type": "display_data"
    }
   ],
   "source": [
    "# Visualizing the training set results\n",
    "\n",
    "plot_test = plt\n",
    "plot_test.scatter(X_train, y_train, color='green', s = 15)\n",
    "plot_test.plot(X_train, y_predicted_train, color='red', linewidth =3)\n",
    "plot_test.title('Rating vs cocoa percent (Training set)')\n",
    "plot_test.xlabel('cocoa_percent')\n",
    "plot_test.ylabel('rating')\n",
    "plot_test.show()"
   ]
  },
  {
   "cell_type": "markdown",
   "id": "ed41ff60",
   "metadata": {},
   "source": [
    "- Comparing summary statistics results for test and training set it can be seen that results are little better for training set but still, it is not so good fit."
   ]
  },
  {
   "cell_type": "code",
   "execution_count": null,
   "id": "8eae2ca8",
   "metadata": {},
   "outputs": [],
   "source": []
  }
 ],
 "metadata": {
  "kernelspec": {
   "display_name": "Python 3 (ipykernel)",
   "language": "python",
   "name": "python3"
  },
  "language_info": {
   "codemirror_mode": {
    "name": "ipython",
    "version": 3
   },
   "file_extension": ".py",
   "mimetype": "text/x-python",
   "name": "python",
   "nbconvert_exporter": "python",
   "pygments_lexer": "ipython3",
   "version": "3.9.13"
  }
 },
 "nbformat": 4,
 "nbformat_minor": 5
}
