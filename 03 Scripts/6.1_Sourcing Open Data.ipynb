{
 "cells": [
  {
   "cell_type": "markdown",
   "id": "ee2bca35",
   "metadata": {},
   "source": [
    "# 6.1 Sourcing Open Data\n",
    "\n",
    "## Contents list:\n",
    "\n",
    "### Data Wrangling Procedures & Data consistency checks\n",
    "#### 01 Importing libraries\n",
    "#### 02 Importing data\n",
    "#### 03 Data Wrangling Procedures\n",
    "#### 04 Data consistency checks\n"
   ]
  },
  {
   "cell_type": "markdown",
   "id": "87262885",
   "metadata": {},
   "source": [
    "### 01 Importing libraries"
   ]
  },
  {
   "cell_type": "code",
   "execution_count": 1,
   "id": "19d49db2",
   "metadata": {},
   "outputs": [],
   "source": [
    "# Import libraries\n",
    "import pandas as pd\n",
    "import numpy as np\n",
    "import os"
   ]
  },
  {
   "cell_type": "markdown",
   "id": "91600ac7",
   "metadata": {},
   "source": [
    "### 02 Importing data"
   ]
  },
  {
   "cell_type": "code",
   "execution_count": 2,
   "id": "eb20a3cb",
   "metadata": {},
   "outputs": [],
   "source": [
    "# Project folder path as string\n",
    "path = r'C:\\Users\\User\\Desktop\\Chocolate Bar Ratings'"
   ]
  },
  {
   "cell_type": "code",
   "execution_count": 3,
   "id": "784c3cb1",
   "metadata": {},
   "outputs": [],
   "source": [
    "# Import flavors_of_cacao.csv data set using the os library\n",
    "df_c= pd.read_csv(os.path.join(path, '02 Data', 'Original Data', 'flavors_of_cacao.csv'), index_col = False)"
   ]
  },
  {
   "cell_type": "code",
   "execution_count": 4,
   "id": "b12fcee4",
   "metadata": {},
   "outputs": [
    {
     "name": "stdout",
     "output_type": "stream",
     "text": [
      "<class 'pandas.core.frame.DataFrame'>\n",
      "RangeIndex: 1795 entries, 0 to 1794\n",
      "Data columns (total 9 columns):\n",
      " #   Column                            Non-Null Count  Dtype  \n",
      "---  ------                            --------------  -----  \n",
      " 0   Company \n",
      "(Maker-if known)         1795 non-null   object \n",
      " 1   Specific Bean Origin\n",
      "or Bar Name  1795 non-null   object \n",
      " 2   REF                               1795 non-null   int64  \n",
      " 3   Review\n",
      "Date                       1795 non-null   int64  \n",
      " 4   Cocoa\n",
      "Percent                     1795 non-null   object \n",
      " 5   Company\n",
      "Location                  1795 non-null   object \n",
      " 6   Rating                            1795 non-null   float64\n",
      " 7   Bean\n",
      "Type                         1794 non-null   object \n",
      " 8   Broad Bean\n",
      "Origin                 1794 non-null   object \n",
      "dtypes: float64(1), int64(2), object(6)\n",
      "memory usage: 126.3+ KB\n"
     ]
    }
   ],
   "source": [
    "# Checking data info\n",
    "df_c.info()"
   ]
  },
  {
   "cell_type": "code",
   "execution_count": 5,
   "id": "14bd26cd",
   "metadata": {},
   "outputs": [
    {
     "data": {
      "text/plain": [
       "(1795, 9)"
      ]
     },
     "execution_count": 5,
     "metadata": {},
     "output_type": "execute_result"
    }
   ],
   "source": [
    "# Checking the number of rows and columns\n",
    "df_c.shape"
   ]
  },
  {
   "cell_type": "code",
   "execution_count": 6,
   "id": "4fc44b54",
   "metadata": {},
   "outputs": [
    {
     "data": {
      "text/html": [
       "<div>\n",
       "<style scoped>\n",
       "    .dataframe tbody tr th:only-of-type {\n",
       "        vertical-align: middle;\n",
       "    }\n",
       "\n",
       "    .dataframe tbody tr th {\n",
       "        vertical-align: top;\n",
       "    }\n",
       "\n",
       "    .dataframe thead th {\n",
       "        text-align: right;\n",
       "    }\n",
       "</style>\n",
       "<table border=\"1\" class=\"dataframe\">\n",
       "  <thead>\n",
       "    <tr style=\"text-align: right;\">\n",
       "      <th></th>\n",
       "      <th>Company \\n(Maker-if known)</th>\n",
       "      <th>Specific Bean Origin\\nor Bar Name</th>\n",
       "      <th>REF</th>\n",
       "      <th>Review\\nDate</th>\n",
       "      <th>Cocoa\\nPercent</th>\n",
       "      <th>Company\\nLocation</th>\n",
       "      <th>Rating</th>\n",
       "      <th>Bean\\nType</th>\n",
       "      <th>Broad Bean\\nOrigin</th>\n",
       "    </tr>\n",
       "  </thead>\n",
       "  <tbody>\n",
       "    <tr>\n",
       "      <th>0</th>\n",
       "      <td>A. Morin</td>\n",
       "      <td>Agua Grande</td>\n",
       "      <td>1876</td>\n",
       "      <td>2016</td>\n",
       "      <td>63%</td>\n",
       "      <td>France</td>\n",
       "      <td>3.75</td>\n",
       "      <td></td>\n",
       "      <td>Sao Tome</td>\n",
       "    </tr>\n",
       "    <tr>\n",
       "      <th>1</th>\n",
       "      <td>A. Morin</td>\n",
       "      <td>Kpime</td>\n",
       "      <td>1676</td>\n",
       "      <td>2015</td>\n",
       "      <td>70%</td>\n",
       "      <td>France</td>\n",
       "      <td>2.75</td>\n",
       "      <td></td>\n",
       "      <td>Togo</td>\n",
       "    </tr>\n",
       "    <tr>\n",
       "      <th>2</th>\n",
       "      <td>A. Morin</td>\n",
       "      <td>Atsane</td>\n",
       "      <td>1676</td>\n",
       "      <td>2015</td>\n",
       "      <td>70%</td>\n",
       "      <td>France</td>\n",
       "      <td>3.00</td>\n",
       "      <td></td>\n",
       "      <td>Togo</td>\n",
       "    </tr>\n",
       "    <tr>\n",
       "      <th>3</th>\n",
       "      <td>A. Morin</td>\n",
       "      <td>Akata</td>\n",
       "      <td>1680</td>\n",
       "      <td>2015</td>\n",
       "      <td>70%</td>\n",
       "      <td>France</td>\n",
       "      <td>3.50</td>\n",
       "      <td></td>\n",
       "      <td>Togo</td>\n",
       "    </tr>\n",
       "    <tr>\n",
       "      <th>4</th>\n",
       "      <td>A. Morin</td>\n",
       "      <td>Quilla</td>\n",
       "      <td>1704</td>\n",
       "      <td>2015</td>\n",
       "      <td>70%</td>\n",
       "      <td>France</td>\n",
       "      <td>3.50</td>\n",
       "      <td></td>\n",
       "      <td>Peru</td>\n",
       "    </tr>\n",
       "  </tbody>\n",
       "</table>\n",
       "</div>"
      ],
      "text/plain": [
       "  Company \\n(Maker-if known) Specific Bean Origin\\nor Bar Name   REF  \\\n",
       "0                   A. Morin                       Agua Grande  1876   \n",
       "1                   A. Morin                             Kpime  1676   \n",
       "2                   A. Morin                            Atsane  1676   \n",
       "3                   A. Morin                             Akata  1680   \n",
       "4                   A. Morin                            Quilla  1704   \n",
       "\n",
       "   Review\\nDate Cocoa\\nPercent Company\\nLocation  Rating Bean\\nType  \\\n",
       "0          2016            63%            France    3.75              \n",
       "1          2015            70%            France    2.75              \n",
       "2          2015            70%            France    3.00              \n",
       "3          2015            70%            France    3.50              \n",
       "4          2015            70%            France    3.50              \n",
       "\n",
       "  Broad Bean\\nOrigin  \n",
       "0           Sao Tome  \n",
       "1               Togo  \n",
       "2               Togo  \n",
       "3               Togo  \n",
       "4               Peru  "
      ]
     },
     "execution_count": 6,
     "metadata": {},
     "output_type": "execute_result"
    }
   ],
   "source": [
    "df_c.head()"
   ]
  },
  {
   "cell_type": "markdown",
   "id": "6d2dd230",
   "metadata": {},
   "source": [
    "### 03 Data Wrangling Procedures"
   ]
  },
  {
   "cell_type": "code",
   "execution_count": 7,
   "id": "02c98d78",
   "metadata": {},
   "outputs": [
    {
     "data": {
      "text/plain": [
       "Index(['Company \\n(Maker-if known)', 'Specific Bean Origin\\nor Bar Name',\n",
       "       'REF', 'Review\\nDate', 'Cocoa\\nPercent', 'Company\\nLocation', 'Rating',\n",
       "       'Bean\\nType', 'Broad Bean\\nOrigin'],\n",
       "      dtype='object')"
      ]
     },
     "execution_count": 7,
     "metadata": {},
     "output_type": "execute_result"
    }
   ],
   "source": [
    "# Checking column names\n",
    "df_c.columns"
   ]
  },
  {
   "cell_type": "code",
   "execution_count": 8,
   "id": "3fb7de50",
   "metadata": {},
   "outputs": [],
   "source": [
    "# Renaming columns\n",
    "df_c.rename(columns = {'Company\\xa0\\n(Maker-if known)':'company',\n",
    "                      'Specific Bean Origin\\nor Bar Name':'specific_bean_origin_or_bar_name',\n",
    "                      'REF':'reference_number',\n",
    "                      'Review\\nDate':'review_date',\n",
    "                      'Cocoa\\nPercent':'cocoa_percent',\n",
    "                      'Company\\nLocation':'company_location',\n",
    "                      'Rating':'rating',\n",
    "                      'Bean\\nType':'bean_type',\n",
    "                      'Broad Bean\\nOrigin':'broad_bean_origin'}, inplace = True)"
   ]
  },
  {
   "cell_type": "code",
   "execution_count": 9,
   "id": "f736f657",
   "metadata": {},
   "outputs": [
    {
     "data": {
      "text/plain": [
       "Index(['company', 'specific_bean_origin_or_bar_name', 'reference_number',\n",
       "       'review_date', 'cocoa_percent', 'company_location', 'rating',\n",
       "       'bean_type', 'broad_bean_origin'],\n",
       "      dtype='object')"
      ]
     },
     "execution_count": 9,
     "metadata": {},
     "output_type": "execute_result"
    }
   ],
   "source": [
    "# Re-checking column names\n",
    "df_c.columns"
   ]
  },
  {
   "cell_type": "code",
   "execution_count": 10,
   "id": "5ef5681c",
   "metadata": {},
   "outputs": [
    {
     "data": {
      "text/plain": [
       "company                              object\n",
       "specific_bean_origin_or_bar_name     object\n",
       "reference_number                      int64\n",
       "review_date                           int64\n",
       "cocoa_percent                        object\n",
       "company_location                     object\n",
       "rating                              float64\n",
       "bean_type                            object\n",
       "broad_bean_origin                    object\n",
       "dtype: object"
      ]
     },
     "execution_count": 10,
     "metadata": {},
     "output_type": "execute_result"
    }
   ],
   "source": [
    "# Checking data types\n",
    "df_c.dtypes"
   ]
  },
  {
   "cell_type": "code",
   "execution_count": 11,
   "id": "0f7a6b4d",
   "metadata": {},
   "outputs": [
    {
     "data": {
      "text/html": [
       "<div>\n",
       "<style scoped>\n",
       "    .dataframe tbody tr th:only-of-type {\n",
       "        vertical-align: middle;\n",
       "    }\n",
       "\n",
       "    .dataframe tbody tr th {\n",
       "        vertical-align: top;\n",
       "    }\n",
       "\n",
       "    .dataframe thead th {\n",
       "        text-align: right;\n",
       "    }\n",
       "</style>\n",
       "<table border=\"1\" class=\"dataframe\">\n",
       "  <thead>\n",
       "    <tr style=\"text-align: right;\">\n",
       "      <th></th>\n",
       "      <th>reference_number</th>\n",
       "      <th>review_date</th>\n",
       "      <th>rating</th>\n",
       "    </tr>\n",
       "  </thead>\n",
       "  <tbody>\n",
       "    <tr>\n",
       "      <th>count</th>\n",
       "      <td>1795.000000</td>\n",
       "      <td>1795.000000</td>\n",
       "      <td>1795.000000</td>\n",
       "    </tr>\n",
       "    <tr>\n",
       "      <th>mean</th>\n",
       "      <td>1035.904735</td>\n",
       "      <td>2012.325348</td>\n",
       "      <td>3.185933</td>\n",
       "    </tr>\n",
       "    <tr>\n",
       "      <th>std</th>\n",
       "      <td>552.886365</td>\n",
       "      <td>2.927210</td>\n",
       "      <td>0.478062</td>\n",
       "    </tr>\n",
       "    <tr>\n",
       "      <th>min</th>\n",
       "      <td>5.000000</td>\n",
       "      <td>2006.000000</td>\n",
       "      <td>1.000000</td>\n",
       "    </tr>\n",
       "    <tr>\n",
       "      <th>25%</th>\n",
       "      <td>576.000000</td>\n",
       "      <td>2010.000000</td>\n",
       "      <td>2.875000</td>\n",
       "    </tr>\n",
       "    <tr>\n",
       "      <th>50%</th>\n",
       "      <td>1069.000000</td>\n",
       "      <td>2013.000000</td>\n",
       "      <td>3.250000</td>\n",
       "    </tr>\n",
       "    <tr>\n",
       "      <th>75%</th>\n",
       "      <td>1502.000000</td>\n",
       "      <td>2015.000000</td>\n",
       "      <td>3.500000</td>\n",
       "    </tr>\n",
       "    <tr>\n",
       "      <th>max</th>\n",
       "      <td>1952.000000</td>\n",
       "      <td>2017.000000</td>\n",
       "      <td>5.000000</td>\n",
       "    </tr>\n",
       "  </tbody>\n",
       "</table>\n",
       "</div>"
      ],
      "text/plain": [
       "       reference_number  review_date       rating\n",
       "count       1795.000000  1795.000000  1795.000000\n",
       "mean        1035.904735  2012.325348     3.185933\n",
       "std          552.886365     2.927210     0.478062\n",
       "min            5.000000  2006.000000     1.000000\n",
       "25%          576.000000  2010.000000     2.875000\n",
       "50%         1069.000000  2013.000000     3.250000\n",
       "75%         1502.000000  2015.000000     3.500000\n",
       "max         1952.000000  2017.000000     5.000000"
      ]
     },
     "execution_count": 11,
     "metadata": {},
     "output_type": "execute_result"
    }
   ],
   "source": [
    "# Basic statistic\n",
    "df_c.describe()"
   ]
  },
  {
   "cell_type": "markdown",
   "id": "4f68c7d3",
   "metadata": {},
   "source": [
    "- The variable 'cocoa_percent' is a numeric variable expressed as a percentage, so it should be in the table above. In the output (10) of the previous function, it is visible that the variable 'cocoa_percent' has an object data type, that data type should be changed to float."
   ]
  },
  {
   "cell_type": "code",
   "execution_count": 12,
   "id": "f5f5aae0",
   "metadata": {},
   "outputs": [],
   "source": [
    "# Changing data type of 'cocoa_percent' variable from object into float because it is percentage\n",
    "df_c['cocoa_percent'] = df_c['cocoa_percent'].str.rstrip(\"%\").astype(float)/100"
   ]
  },
  {
   "cell_type": "code",
   "execution_count": 13,
   "id": "ae8cdff5",
   "metadata": {},
   "outputs": [
    {
     "data": {
      "text/plain": [
       "company                              object\n",
       "specific_bean_origin_or_bar_name     object\n",
       "reference_number                      int64\n",
       "review_date                           int64\n",
       "cocoa_percent                       float64\n",
       "company_location                     object\n",
       "rating                              float64\n",
       "bean_type                            object\n",
       "broad_bean_origin                    object\n",
       "dtype: object"
      ]
     },
     "execution_count": 13,
     "metadata": {},
     "output_type": "execute_result"
    }
   ],
   "source": [
    "# Re-checking data types\n",
    "df_c.dtypes"
   ]
  },
  {
   "cell_type": "code",
   "execution_count": 14,
   "id": "f60446c8",
   "metadata": {},
   "outputs": [
    {
     "data": {
      "text/html": [
       "<div>\n",
       "<style scoped>\n",
       "    .dataframe tbody tr th:only-of-type {\n",
       "        vertical-align: middle;\n",
       "    }\n",
       "\n",
       "    .dataframe tbody tr th {\n",
       "        vertical-align: top;\n",
       "    }\n",
       "\n",
       "    .dataframe thead th {\n",
       "        text-align: right;\n",
       "    }\n",
       "</style>\n",
       "<table border=\"1\" class=\"dataframe\">\n",
       "  <thead>\n",
       "    <tr style=\"text-align: right;\">\n",
       "      <th></th>\n",
       "      <th>reference_number</th>\n",
       "      <th>review_date</th>\n",
       "      <th>cocoa_percent</th>\n",
       "      <th>rating</th>\n",
       "    </tr>\n",
       "  </thead>\n",
       "  <tbody>\n",
       "    <tr>\n",
       "      <th>count</th>\n",
       "      <td>1795.000000</td>\n",
       "      <td>1795.000000</td>\n",
       "      <td>1795.000000</td>\n",
       "      <td>1795.000000</td>\n",
       "    </tr>\n",
       "    <tr>\n",
       "      <th>mean</th>\n",
       "      <td>1035.904735</td>\n",
       "      <td>2012.325348</td>\n",
       "      <td>0.716983</td>\n",
       "      <td>3.185933</td>\n",
       "    </tr>\n",
       "    <tr>\n",
       "      <th>std</th>\n",
       "      <td>552.886365</td>\n",
       "      <td>2.927210</td>\n",
       "      <td>0.063231</td>\n",
       "      <td>0.478062</td>\n",
       "    </tr>\n",
       "    <tr>\n",
       "      <th>min</th>\n",
       "      <td>5.000000</td>\n",
       "      <td>2006.000000</td>\n",
       "      <td>0.420000</td>\n",
       "      <td>1.000000</td>\n",
       "    </tr>\n",
       "    <tr>\n",
       "      <th>25%</th>\n",
       "      <td>576.000000</td>\n",
       "      <td>2010.000000</td>\n",
       "      <td>0.700000</td>\n",
       "      <td>2.875000</td>\n",
       "    </tr>\n",
       "    <tr>\n",
       "      <th>50%</th>\n",
       "      <td>1069.000000</td>\n",
       "      <td>2013.000000</td>\n",
       "      <td>0.700000</td>\n",
       "      <td>3.250000</td>\n",
       "    </tr>\n",
       "    <tr>\n",
       "      <th>75%</th>\n",
       "      <td>1502.000000</td>\n",
       "      <td>2015.000000</td>\n",
       "      <td>0.750000</td>\n",
       "      <td>3.500000</td>\n",
       "    </tr>\n",
       "    <tr>\n",
       "      <th>max</th>\n",
       "      <td>1952.000000</td>\n",
       "      <td>2017.000000</td>\n",
       "      <td>1.000000</td>\n",
       "      <td>5.000000</td>\n",
       "    </tr>\n",
       "  </tbody>\n",
       "</table>\n",
       "</div>"
      ],
      "text/plain": [
       "       reference_number  review_date  cocoa_percent       rating\n",
       "count       1795.000000  1795.000000    1795.000000  1795.000000\n",
       "mean        1035.904735  2012.325348       0.716983     3.185933\n",
       "std          552.886365     2.927210       0.063231     0.478062\n",
       "min            5.000000  2006.000000       0.420000     1.000000\n",
       "25%          576.000000  2010.000000       0.700000     2.875000\n",
       "50%         1069.000000  2013.000000       0.700000     3.250000\n",
       "75%         1502.000000  2015.000000       0.750000     3.500000\n",
       "max         1952.000000  2017.000000       1.000000     5.000000"
      ]
     },
     "execution_count": 14,
     "metadata": {},
     "output_type": "execute_result"
    }
   ],
   "source": [
    "# Re-run basic statistic\n",
    "df_c.describe()"
   ]
  },
  {
   "cell_type": "markdown",
   "id": "bc697ea6",
   "metadata": {},
   "source": [
    "- Now describe-table contain 'cocoa_percent' column."
   ]
  },
  {
   "cell_type": "markdown",
   "id": "f19a2674",
   "metadata": {},
   "source": [
    "### 04 Data consistency checks"
   ]
  },
  {
   "cell_type": "code",
   "execution_count": 15,
   "id": "bd775ecc",
   "metadata": {},
   "outputs": [
    {
     "data": {
      "text/plain": [
       "company                             0\n",
       "specific_bean_origin_or_bar_name    0\n",
       "reference_number                    0\n",
       "review_date                         0\n",
       "cocoa_percent                       0\n",
       "company_location                    0\n",
       "rating                              0\n",
       "bean_type                           1\n",
       "broad_bean_origin                   1\n",
       "dtype: int64"
      ]
     },
     "execution_count": 15,
     "metadata": {},
     "output_type": "execute_result"
    }
   ],
   "source": [
    "# Missing values - finding missing values\n",
    "df_c.isnull().sum()"
   ]
  },
  {
   "cell_type": "code",
   "execution_count": 16,
   "id": "e662fbe3",
   "metadata": {},
   "outputs": [
    {
     "data": {
      "text/plain": [
       "                            887\n",
       "Trinitario                  419\n",
       "Criollo                     153\n",
       "Forastero                    87\n",
       "Forastero (Nacional)         52\n",
       "Blend                        41\n",
       "Criollo, Trinitario          39\n",
       "Forastero (Arriba)           37\n",
       "Criollo (Porcelana)          10\n",
       "Trinitario, Criollo           9\n",
       "Forastero (Parazinho)         8\n",
       "Forastero (Arriba) ASS        6\n",
       "Nacional (Arriba)             3\n",
       "Matina                        3\n",
       "EET                           3\n",
       "Beniano                       3\n",
       "Criollo (Ocumare 61)          2\n",
       "Trinitario, Forastero         2\n",
       "Trinitario (85% Criollo)      2\n",
       "Forastero (Catongo)           2\n",
       "Criollo, Forastero            2\n",
       "Amazon, ICS                   2\n",
       "Criollo (Amarru)              2\n",
       "Amazon mix                    2\n",
       "Nacional                      2\n",
       "Criollo (Ocumare)             1\n",
       "Criollo (Ocumare 67)          1\n",
       "Trinitario, TCGA              1\n",
       "Trinitario (Amelonado)        1\n",
       "Trinitario, Nacional          1\n",
       "Forastero (Amelonado)         1\n",
       "Forastero, Trinitario         1\n",
       "Forastero (Arriba) ASSS       1\n",
       "Forastero(Arriba, CCN)        1\n",
       "Criollo, +                    1\n",
       "Criollo (Wild)                1\n",
       "Trinitario (Scavina)          1\n",
       "Criollo (Ocumare 77)          1\n",
       "CCN51                         1\n",
       "Amazon                        1\n",
       "Blend-Forastero,Criollo       1\n",
       "Name: bean_type, dtype: int64"
      ]
     },
     "execution_count": 16,
     "metadata": {},
     "output_type": "execute_result"
    }
   ],
   "source": [
    "df_c['bean_type'].value_counts()"
   ]
  },
  {
   "cell_type": "markdown",
   "id": "e6e22771",
   "metadata": {},
   "source": [
    "- 'bean_type' variable contains 887 blank cells."
   ]
  },
  {
   "cell_type": "code",
   "execution_count": 17,
   "id": "e3cc4bb1",
   "metadata": {},
   "outputs": [
    {
     "data": {
      "text/plain": [
       "True"
      ]
     },
     "execution_count": 17,
     "metadata": {},
     "output_type": "execute_result"
    }
   ],
   "source": [
    "# Checking for empty cell or NaN\n",
    "df_c.isnull().values.any()"
   ]
  },
  {
   "cell_type": "code",
   "execution_count": 18,
   "id": "08c759bf",
   "metadata": {},
   "outputs": [
    {
     "data": {
      "text/plain": [
       "array(['\\xa0', 'Criollo', 'Trinitario', 'Forastero (Arriba)', 'Forastero',\n",
       "       'Forastero (Nacional)', 'Criollo, Trinitario',\n",
       "       'Criollo (Porcelana)', 'Blend', 'Trinitario (85% Criollo)',\n",
       "       'Forastero (Catongo)', 'Forastero (Parazinho)',\n",
       "       'Trinitario, Criollo', 'CCN51', 'Criollo (Ocumare)', 'Nacional',\n",
       "       'Criollo (Ocumare 61)', 'Criollo (Ocumare 77)',\n",
       "       'Criollo (Ocumare 67)', 'Criollo (Wild)', 'Beniano', 'Amazon mix',\n",
       "       'Trinitario, Forastero', 'Forastero (Arriba) ASS', 'Criollo, +',\n",
       "       'Amazon', 'Amazon, ICS', 'EET', 'Blend-Forastero,Criollo',\n",
       "       'Trinitario (Scavina)', 'Criollo, Forastero', 'Matina',\n",
       "       'Forastero(Arriba, CCN)', 'Nacional (Arriba)',\n",
       "       'Forastero (Arriba) ASSS', 'Forastero, Trinitario',\n",
       "       'Forastero (Amelonado)', nan, 'Trinitario, Nacional',\n",
       "       'Trinitario (Amelonado)', 'Trinitario, TCGA', 'Criollo (Amarru)'],\n",
       "      dtype=object)"
      ]
     },
     "execution_count": 18,
     "metadata": {},
     "output_type": "execute_result"
    }
   ],
   "source": [
    "# Checking for unique values \n",
    "df_c['bean_type'].unique()"
   ]
  },
  {
   "cell_type": "markdown",
   "id": "650ec3bd",
   "metadata": {},
   "source": [
    "- There are entries '\\xa0' and 'nan'."
   ]
  },
  {
   "cell_type": "code",
   "execution_count": 19,
   "id": "ff78ecb0",
   "metadata": {},
   "outputs": [],
   "source": [
    "# Replacing '\\xa0'and 'nan' entry with nan\n",
    "df_c=df_c.replace('\\xa0', np. nan)\\\n",
    "         .replace('nan', np. nan)"
   ]
  },
  {
   "cell_type": "code",
   "execution_count": 20,
   "id": "8a34d0ab",
   "metadata": {},
   "outputs": [
    {
     "data": {
      "text/plain": [
       "company                               0\n",
       "specific_bean_origin_or_bar_name      0\n",
       "reference_number                      0\n",
       "review_date                           0\n",
       "cocoa_percent                         0\n",
       "company_location                      0\n",
       "rating                                0\n",
       "bean_type                           888\n",
       "broad_bean_origin                    74\n",
       "dtype: int64"
      ]
     },
     "execution_count": 20,
     "metadata": {},
     "output_type": "execute_result"
    }
   ],
   "source": [
    "# Re-checking for missing values - finding missing values\n",
    "df_c.isnull().sum()"
   ]
  },
  {
   "cell_type": "code",
   "execution_count": 21,
   "id": "e9391dde",
   "metadata": {},
   "outputs": [],
   "source": [
    "# Percentage of missing values\n",
    "Missing_values=df_c.isnull().sum()/len(df_c)"
   ]
  },
  {
   "cell_type": "code",
   "execution_count": 22,
   "id": "d61a1099",
   "metadata": {},
   "outputs": [
    {
     "data": {
      "text/plain": [
       "company                             0.000000\n",
       "specific_bean_origin_or_bar_name    0.000000\n",
       "reference_number                    0.000000\n",
       "review_date                         0.000000\n",
       "cocoa_percent                       0.000000\n",
       "company_location                    0.000000\n",
       "rating                              0.000000\n",
       "bean_type                           0.494708\n",
       "broad_bean_origin                   0.041226\n",
       "dtype: float64"
      ]
     },
     "execution_count": 22,
     "metadata": {},
     "output_type": "execute_result"
    }
   ],
   "source": [
    "Missing_values"
   ]
  },
  {
   "cell_type": "markdown",
   "id": "1043aef4",
   "metadata": {},
   "source": [
    "- Percentage of missing values for 'bean type' = 49.4708 %. Since 49.4708 > 5 , these values should be inserted by one of the imputation methods or drop a column based on the percentage of missing values.\n",
    "- Percentage of missing values for 'broad_bean_origin' = 4.1226 %. Since 4.1226 < 5, we can leave these values as they are or drop only these values."
   ]
  },
  {
   "cell_type": "code",
   "execution_count": 23,
   "id": "50b67bc8",
   "metadata": {},
   "outputs": [],
   "source": [
    "# Dropping the bean_type column from df_c dataframe\n",
    "df_c=df_c.drop(columns = ['bean_type'])"
   ]
  },
  {
   "cell_type": "code",
   "execution_count": 24,
   "id": "4a35ffa6",
   "metadata": {},
   "outputs": [],
   "source": [
    "# Dropping only missing values\n",
    "df_c=df_c.dropna(axis=0)"
   ]
  },
  {
   "cell_type": "code",
   "execution_count": 25,
   "id": "720d7a75",
   "metadata": {},
   "outputs": [
    {
     "data": {
      "text/plain": [
       "company                             0\n",
       "specific_bean_origin_or_bar_name    0\n",
       "reference_number                    0\n",
       "review_date                         0\n",
       "cocoa_percent                       0\n",
       "company_location                    0\n",
       "rating                              0\n",
       "broad_bean_origin                   0\n",
       "dtype: int64"
      ]
     },
     "execution_count": 25,
     "metadata": {},
     "output_type": "execute_result"
    }
   ],
   "source": [
    "# Re-checking for missing values - finding missing values\n",
    "df_c.isnull().sum()"
   ]
  },
  {
   "cell_type": "code",
   "execution_count": 26,
   "id": "3264c664",
   "metadata": {},
   "outputs": [
    {
     "data": {
      "text/plain": [
       "(1721, 8)"
      ]
     },
     "execution_count": 26,
     "metadata": {},
     "output_type": "execute_result"
    }
   ],
   "source": [
    "# Checking for number of rows and columns\n",
    "df_c.shape"
   ]
  },
  {
   "cell_type": "code",
   "execution_count": 27,
   "id": "10d4973d",
   "metadata": {},
   "outputs": [
    {
     "data": {
      "text/plain": [
       "array(['France', 'U.S.A.', 'Fiji', 'Ecuador', 'Mexico', 'Switzerland',\n",
       "       'Netherlands', 'Spain', 'Peru', 'Canada', 'Italy', 'Brazil',\n",
       "       'U.K.', 'Australia', 'Wales', 'Belgium', 'Germany', 'Russia',\n",
       "       'Puerto Rico', 'Venezuela', 'Colombia', 'Japan', 'New Zealand',\n",
       "       'Costa Rica', 'South Korea', 'Amsterdam', 'Scotland', 'Martinique',\n",
       "       'Sao Tome', 'Argentina', 'Guatemala', 'South Africa', 'Bolivia',\n",
       "       'St. Lucia', 'Portugal', 'Singapore', 'Denmark', 'Vietnam',\n",
       "       'Grenada', 'Israel', 'India', 'Czech Republic',\n",
       "       'Domincan Republic', 'Finland', 'Madagascar', 'Philippines',\n",
       "       'Sweden', 'Poland', 'Austria', 'Honduras', 'Nicaragua',\n",
       "       'Lithuania', 'Niacragua', 'Chile', 'Ghana', 'Iceland', 'Eucador',\n",
       "       'Hungary', 'Suriname', 'Ireland'], dtype=object)"
      ]
     },
     "execution_count": 27,
     "metadata": {},
     "output_type": "execute_result"
    }
   ],
   "source": [
    "# The geographical feature is a significant criterion for Achievement 6\n",
    "# Checking for unique values \n",
    "df_c['company_location'].unique()"
   ]
  },
  {
   "cell_type": "code",
   "execution_count": 28,
   "id": "929f2d7e",
   "metadata": {},
   "outputs": [],
   "source": [
    "# Changing abbreviations to the full name and correcting typos\n",
    "df_c['company_location']=df_c['company_location'].replace('Eucador', 'Ecuador')\\\n",
    "                                                 .replace('U.S.A.', 'United States of America')\\\n",
    "                                                 .replace('U.K.', 'United Kingdom')\\\n",
    "                                                 .replace('Amsterdam', 'Netherlands')\\\n",
    "                                                 .replace('Domincan Republic', 'Dominican Republic')\\\n",
    "                                                 .replace('Niacragua', 'Nicaragua')"
   ]
  },
  {
   "cell_type": "code",
   "execution_count": 29,
   "id": "d4908bf6",
   "metadata": {},
   "outputs": [
    {
     "data": {
      "text/plain": [
       "United States of America    737\n",
       "France                      144\n",
       "Canada                      117\n",
       "United Kingdom               95\n",
       "Ecuador                      55\n",
       "Italy                        54\n",
       "Australia                    46\n",
       "Belgium                      37\n",
       "Germany                      35\n",
       "Switzerland                  35\n",
       "Austria                      23\n",
       "Colombia                     23\n",
       "Hungary                      22\n",
       "Spain                        21\n",
       "Venezuela                    20\n",
       "Brazil                       17\n",
       "Peru                         17\n",
       "Madagascar                   17\n",
       "Japan                        17\n",
       "New Zealand                  17\n",
       "Denmark                      15\n",
       "Vietnam                      11\n",
       "Scotland                     10\n",
       "Guatemala                    10\n",
       "Israel                        9\n",
       "Argentina                     9\n",
       "Costa Rica                    9\n",
       "Netherlands                   8\n",
       "Poland                        7\n",
       "Lithuania                     6\n",
       "Nicaragua                     6\n",
       "Honduras                      6\n",
       "Dominican Republic            5\n",
       "South Korea                   5\n",
       "Sweden                        5\n",
       "Sao Tome                      4\n",
       "Fiji                          4\n",
       "Mexico                        4\n",
       "Ireland                       4\n",
       "Puerto Rico                   4\n",
       "Portugal                      3\n",
       "Grenada                       3\n",
       "South Africa                  3\n",
       "Iceland                       3\n",
       "Singapore                     3\n",
       "Chile                         2\n",
       "Finland                       2\n",
       "St. Lucia                     2\n",
       "Bolivia                       2\n",
       "Suriname                      1\n",
       "Ghana                         1\n",
       "India                         1\n",
       "Czech Republic                1\n",
       "Russia                        1\n",
       "Philippines                   1\n",
       "Wales                         1\n",
       "Martinique                    1\n",
       "Name: company_location, dtype: int64"
      ]
     },
     "execution_count": 29,
     "metadata": {},
     "output_type": "execute_result"
    }
   ],
   "source": [
    "# Checking values \n",
    "df_c['company_location'].value_counts()"
   ]
  },
  {
   "cell_type": "code",
   "execution_count": 30,
   "id": "32de87be",
   "metadata": {},
   "outputs": [
    {
     "data": {
      "text/plain": [
       "array([2016, 2015, 2014, 2013, 2012, 2011, 2009, 2010, 2017, 2008, 2007,\n",
       "       2006], dtype=int64)"
      ]
     },
     "execution_count": 30,
     "metadata": {},
     "output_type": "execute_result"
    }
   ],
   "source": [
    "# Checking for unique values \n",
    "df_c['review_date'].unique()"
   ]
  },
  {
   "cell_type": "code",
   "execution_count": 31,
   "id": "3fb0e450",
   "metadata": {},
   "outputs": [
    {
     "data": {
      "text/plain": [
       "array([0.63 , 0.7  , 0.6  , 0.8  , 0.88 , 0.72 , 0.55 , 0.75 , 0.65 ,\n",
       "       0.85 , 0.73 , 0.64 , 0.66 , 0.68 , 0.5  , 1.   , 0.77 , 0.9  ,\n",
       "       0.71 , 0.83 , 0.78 , 0.74 , 0.76 , 0.86 , 0.82 , 0.69 , 0.91 ,\n",
       "       0.42 , 0.61 , 0.735, 0.62 , 0.67 , 0.58 , 0.605, 0.79 , 0.81 ,\n",
       "       0.57 , 0.725, 0.56 , 0.46 , 0.89 , 0.84 , 0.53 , 0.87 , 0.99 ])"
      ]
     },
     "execution_count": 31,
     "metadata": {},
     "output_type": "execute_result"
    }
   ],
   "source": [
    "# Checking for unique values \n",
    "df_c['cocoa_percent'].unique()"
   ]
  },
  {
   "cell_type": "code",
   "execution_count": 32,
   "id": "18e7b241",
   "metadata": {},
   "outputs": [
    {
     "data": {
      "text/plain": [
       "array([3.75, 2.75, 3.  , 3.5 , 4.  , 3.25, 2.5 , 5.  , 1.75, 1.5 , 2.25,\n",
       "       2.  , 1.  ])"
      ]
     },
     "execution_count": 32,
     "metadata": {},
     "output_type": "execute_result"
    }
   ],
   "source": [
    "# Checking for unique values \n",
    "df_c['rating'].unique()"
   ]
  },
  {
   "cell_type": "code",
   "execution_count": 33,
   "id": "1121e68a",
   "metadata": {},
   "outputs": [],
   "source": [
    "# Checking for mixed-type data\n",
    "for col in df_c.columns.tolist():\n",
    "  weird = (df_c[[col]].applymap(type) != df_c[[col]].iloc[0].apply(type)).any(axis = 1)\n",
    "  if len (df_c[weird]) > 0:\n",
    "    print (col)\n"
   ]
  },
  {
   "cell_type": "markdown",
   "id": "7dea71de",
   "metadata": {},
   "source": [
    "- No mixed-type data found."
   ]
  },
  {
   "cell_type": "code",
   "execution_count": 34,
   "id": "3588e5ca",
   "metadata": {},
   "outputs": [],
   "source": [
    "# Duplicates - finding duplicates\n",
    "df_c1 = df_c[df_c.duplicated()]"
   ]
  },
  {
   "cell_type": "code",
   "execution_count": 35,
   "id": "308d70c7",
   "metadata": {},
   "outputs": [
    {
     "data": {
      "text/html": [
       "<div>\n",
       "<style scoped>\n",
       "    .dataframe tbody tr th:only-of-type {\n",
       "        vertical-align: middle;\n",
       "    }\n",
       "\n",
       "    .dataframe tbody tr th {\n",
       "        vertical-align: top;\n",
       "    }\n",
       "\n",
       "    .dataframe thead th {\n",
       "        text-align: right;\n",
       "    }\n",
       "</style>\n",
       "<table border=\"1\" class=\"dataframe\">\n",
       "  <thead>\n",
       "    <tr style=\"text-align: right;\">\n",
       "      <th></th>\n",
       "      <th>company</th>\n",
       "      <th>specific_bean_origin_or_bar_name</th>\n",
       "      <th>reference_number</th>\n",
       "      <th>review_date</th>\n",
       "      <th>cocoa_percent</th>\n",
       "      <th>company_location</th>\n",
       "      <th>rating</th>\n",
       "      <th>broad_bean_origin</th>\n",
       "    </tr>\n",
       "  </thead>\n",
       "  <tbody>\n",
       "  </tbody>\n",
       "</table>\n",
       "</div>"
      ],
      "text/plain": [
       "Empty DataFrame\n",
       "Columns: [company, specific_bean_origin_or_bar_name, reference_number, review_date, cocoa_percent, company_location, rating, broad_bean_origin]\n",
       "Index: []"
      ]
     },
     "execution_count": 35,
     "metadata": {},
     "output_type": "execute_result"
    }
   ],
   "source": [
    "# Checking for duplicates\n",
    "df_c1"
   ]
  },
  {
   "cell_type": "code",
   "execution_count": 36,
   "id": "5b414407",
   "metadata": {},
   "outputs": [
    {
     "data": {
      "text/plain": [
       "(0, 8)"
      ]
     },
     "execution_count": 36,
     "metadata": {},
     "output_type": "execute_result"
    }
   ],
   "source": [
    "df_c1.shape"
   ]
  },
  {
   "cell_type": "markdown",
   "id": "c68cbc0c",
   "metadata": {},
   "source": [
    "- No duplicates found."
   ]
  },
  {
   "cell_type": "code",
   "execution_count": 37,
   "id": "f07ad738",
   "metadata": {},
   "outputs": [],
   "source": [
    "# Exporting df_c dataframe as \"chocolate_checked.csv\" in \"Prepared Data\" folder.\n",
    "df_c.to_csv(os.path.join(path, '02 Data', 'Prepared Data', 'chocolate_checked.csv')) \n"
   ]
  },
  {
   "cell_type": "code",
   "execution_count": null,
   "id": "17005595",
   "metadata": {},
   "outputs": [],
   "source": []
  }
 ],
 "metadata": {
  "kernelspec": {
   "display_name": "Python 3 (ipykernel)",
   "language": "python",
   "name": "python3"
  },
  "language_info": {
   "codemirror_mode": {
    "name": "ipython",
    "version": 3
   },
   "file_extension": ".py",
   "mimetype": "text/x-python",
   "name": "python",
   "nbconvert_exporter": "python",
   "pygments_lexer": "ipython3",
   "version": "3.9.13"
  }
 },
 "nbformat": 4,
 "nbformat_minor": 5
}
